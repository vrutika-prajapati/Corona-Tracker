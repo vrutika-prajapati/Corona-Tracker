{
  "cells": [
    {
      "cell_type": "markdown",
      "metadata": {
        "id": "view-in-github",
        "colab_type": "text"
      },
      "source": [
        "<a href=\"https://colab.research.google.com/github/vrutika-prajapati/Corona-Tracker/blob/main/Scalable_Database.ipynb\" target=\"_parent\"><img src=\"https://colab.research.google.com/assets/colab-badge.svg\" alt=\"Open In Colab\"/></a>"
      ]
    },
    {
      "cell_type": "code",
      "execution_count": null,
      "id": "077750e3-de8d-49cf-8f0a-ea4bdac10a06",
      "metadata": {
        "id": "077750e3-de8d-49cf-8f0a-ea4bdac10a06"
      },
      "outputs": [],
      "source": [
        "import pandas as pd\n",
        "import warnings\n",
        "\n",
        "# Suppress all warnings\n",
        "warnings.simplefilter(action='ignore', category=Warning)"
      ]
    },
    {
      "cell_type": "code",
      "execution_count": null,
      "id": "8715a663-1358-4cf9-ae05-048ba9d6944b",
      "metadata": {
        "id": "8715a663-1358-4cf9-ae05-048ba9d6944b"
      },
      "outputs": [],
      "source": [
        "crashes_df = pd.read_csv('Motor_Vehicle_Collisions_-_Crashes_20241108.csv')\n",
        "person_df = pd.read_csv('Motor_Vehicle_Collisions_-_Person_20241110.csv')\n",
        "vehicles_df = pd.read_csv('Motor_Vehicle_Collisions_-_Vehicles_20241110.csv')"
      ]
    },
    {
      "cell_type": "markdown",
      "id": "779ae7d0-3977-4fd3-ae9e-95e59ffbd6c2",
      "metadata": {
        "id": "779ae7d0-3977-4fd3-ae9e-95e59ffbd6c2"
      },
      "source": [
        "# Motor Vechicle Collision - Crashes"
      ]
    },
    {
      "cell_type": "code",
      "execution_count": null,
      "id": "7e20989c-1613-4bad-961c-856f80844c73",
      "metadata": {
        "id": "7e20989c-1613-4bad-961c-856f80844c73",
        "outputId": "b7c74e38-f236-4618-97f3-2bffb382ec1e"
      },
      "outputs": [
        {
          "data": {
            "text/html": [
              "<div>\n",
              "<style scoped>\n",
              "    .dataframe tbody tr th:only-of-type {\n",
              "        vertical-align: middle;\n",
              "    }\n",
              "\n",
              "    .dataframe tbody tr th {\n",
              "        vertical-align: top;\n",
              "    }\n",
              "\n",
              "    .dataframe thead th {\n",
              "        text-align: right;\n",
              "    }\n",
              "</style>\n",
              "<table border=\"1\" class=\"dataframe\">\n",
              "  <thead>\n",
              "    <tr style=\"text-align: right;\">\n",
              "      <th></th>\n",
              "      <th>CRASH DATE</th>\n",
              "      <th>CRASH TIME</th>\n",
              "      <th>BOROUGH</th>\n",
              "      <th>ZIP CODE</th>\n",
              "      <th>LATITUDE</th>\n",
              "      <th>LONGITUDE</th>\n",
              "      <th>LOCATION</th>\n",
              "      <th>ON STREET NAME</th>\n",
              "      <th>CROSS STREET NAME</th>\n",
              "      <th>OFF STREET NAME</th>\n",
              "      <th>...</th>\n",
              "      <th>CONTRIBUTING FACTOR VEHICLE 2</th>\n",
              "      <th>CONTRIBUTING FACTOR VEHICLE 3</th>\n",
              "      <th>CONTRIBUTING FACTOR VEHICLE 4</th>\n",
              "      <th>CONTRIBUTING FACTOR VEHICLE 5</th>\n",
              "      <th>COLLISION_ID</th>\n",
              "      <th>VEHICLE TYPE CODE 1</th>\n",
              "      <th>VEHICLE TYPE CODE 2</th>\n",
              "      <th>VEHICLE TYPE CODE 3</th>\n",
              "      <th>VEHICLE TYPE CODE 4</th>\n",
              "      <th>VEHICLE TYPE CODE 5</th>\n",
              "    </tr>\n",
              "  </thead>\n",
              "  <tbody>\n",
              "    <tr>\n",
              "      <th>0</th>\n",
              "      <td>09/11/2021</td>\n",
              "      <td>2:39</td>\n",
              "      <td>NaN</td>\n",
              "      <td>NaN</td>\n",
              "      <td>NaN</td>\n",
              "      <td>NaN</td>\n",
              "      <td>NaN</td>\n",
              "      <td>WHITESTONE EXPRESSWAY</td>\n",
              "      <td>20 AVENUE</td>\n",
              "      <td>NaN</td>\n",
              "      <td>...</td>\n",
              "      <td>Unspecified</td>\n",
              "      <td>NaN</td>\n",
              "      <td>NaN</td>\n",
              "      <td>NaN</td>\n",
              "      <td>4455765</td>\n",
              "      <td>Sedan</td>\n",
              "      <td>Sedan</td>\n",
              "      <td>NaN</td>\n",
              "      <td>NaN</td>\n",
              "      <td>NaN</td>\n",
              "    </tr>\n",
              "    <tr>\n",
              "      <th>1</th>\n",
              "      <td>03/26/2022</td>\n",
              "      <td>11:45</td>\n",
              "      <td>NaN</td>\n",
              "      <td>NaN</td>\n",
              "      <td>NaN</td>\n",
              "      <td>NaN</td>\n",
              "      <td>NaN</td>\n",
              "      <td>QUEENSBORO BRIDGE UPPER</td>\n",
              "      <td>NaN</td>\n",
              "      <td>NaN</td>\n",
              "      <td>...</td>\n",
              "      <td>NaN</td>\n",
              "      <td>NaN</td>\n",
              "      <td>NaN</td>\n",
              "      <td>NaN</td>\n",
              "      <td>4513547</td>\n",
              "      <td>Sedan</td>\n",
              "      <td>NaN</td>\n",
              "      <td>NaN</td>\n",
              "      <td>NaN</td>\n",
              "      <td>NaN</td>\n",
              "    </tr>\n",
              "    <tr>\n",
              "      <th>2</th>\n",
              "      <td>06/29/2022</td>\n",
              "      <td>6:55</td>\n",
              "      <td>NaN</td>\n",
              "      <td>NaN</td>\n",
              "      <td>NaN</td>\n",
              "      <td>NaN</td>\n",
              "      <td>NaN</td>\n",
              "      <td>THROGS NECK BRIDGE</td>\n",
              "      <td>NaN</td>\n",
              "      <td>NaN</td>\n",
              "      <td>...</td>\n",
              "      <td>Unspecified</td>\n",
              "      <td>NaN</td>\n",
              "      <td>NaN</td>\n",
              "      <td>NaN</td>\n",
              "      <td>4541903</td>\n",
              "      <td>Sedan</td>\n",
              "      <td>Pick-up Truck</td>\n",
              "      <td>NaN</td>\n",
              "      <td>NaN</td>\n",
              "      <td>NaN</td>\n",
              "    </tr>\n",
              "    <tr>\n",
              "      <th>3</th>\n",
              "      <td>09/11/2021</td>\n",
              "      <td>9:35</td>\n",
              "      <td>BROOKLYN</td>\n",
              "      <td>11208.0</td>\n",
              "      <td>40.667202</td>\n",
              "      <td>-73.866500</td>\n",
              "      <td>(40.667202, -73.8665)</td>\n",
              "      <td>NaN</td>\n",
              "      <td>NaN</td>\n",
              "      <td>1211      LORING AVENUE</td>\n",
              "      <td>...</td>\n",
              "      <td>NaN</td>\n",
              "      <td>NaN</td>\n",
              "      <td>NaN</td>\n",
              "      <td>NaN</td>\n",
              "      <td>4456314</td>\n",
              "      <td>Sedan</td>\n",
              "      <td>NaN</td>\n",
              "      <td>NaN</td>\n",
              "      <td>NaN</td>\n",
              "      <td>NaN</td>\n",
              "    </tr>\n",
              "    <tr>\n",
              "      <th>4</th>\n",
              "      <td>12/14/2021</td>\n",
              "      <td>8:13</td>\n",
              "      <td>BROOKLYN</td>\n",
              "      <td>11233.0</td>\n",
              "      <td>40.683304</td>\n",
              "      <td>-73.917274</td>\n",
              "      <td>(40.683304, -73.917274)</td>\n",
              "      <td>SARATOGA AVENUE</td>\n",
              "      <td>DECATUR STREET</td>\n",
              "      <td>NaN</td>\n",
              "      <td>...</td>\n",
              "      <td>NaN</td>\n",
              "      <td>NaN</td>\n",
              "      <td>NaN</td>\n",
              "      <td>NaN</td>\n",
              "      <td>4486609</td>\n",
              "      <td>NaN</td>\n",
              "      <td>NaN</td>\n",
              "      <td>NaN</td>\n",
              "      <td>NaN</td>\n",
              "      <td>NaN</td>\n",
              "    </tr>\n",
              "    <tr>\n",
              "      <th>5</th>\n",
              "      <td>04/14/2021</td>\n",
              "      <td>12:47</td>\n",
              "      <td>NaN</td>\n",
              "      <td>NaN</td>\n",
              "      <td>NaN</td>\n",
              "      <td>NaN</td>\n",
              "      <td>NaN</td>\n",
              "      <td>MAJOR DEEGAN EXPRESSWAY RAMP</td>\n",
              "      <td>NaN</td>\n",
              "      <td>NaN</td>\n",
              "      <td>...</td>\n",
              "      <td>Unspecified</td>\n",
              "      <td>NaN</td>\n",
              "      <td>NaN</td>\n",
              "      <td>NaN</td>\n",
              "      <td>4407458</td>\n",
              "      <td>Dump</td>\n",
              "      <td>Sedan</td>\n",
              "      <td>NaN</td>\n",
              "      <td>NaN</td>\n",
              "      <td>NaN</td>\n",
              "    </tr>\n",
              "    <tr>\n",
              "      <th>6</th>\n",
              "      <td>12/14/2021</td>\n",
              "      <td>17:05</td>\n",
              "      <td>NaN</td>\n",
              "      <td>NaN</td>\n",
              "      <td>40.709183</td>\n",
              "      <td>-73.956825</td>\n",
              "      <td>(40.709183, -73.956825)</td>\n",
              "      <td>BROOKLYN QUEENS EXPRESSWAY</td>\n",
              "      <td>NaN</td>\n",
              "      <td>NaN</td>\n",
              "      <td>...</td>\n",
              "      <td>Unspecified</td>\n",
              "      <td>NaN</td>\n",
              "      <td>NaN</td>\n",
              "      <td>NaN</td>\n",
              "      <td>4486555</td>\n",
              "      <td>Sedan</td>\n",
              "      <td>Tractor Truck Diesel</td>\n",
              "      <td>NaN</td>\n",
              "      <td>NaN</td>\n",
              "      <td>NaN</td>\n",
              "    </tr>\n",
              "    <tr>\n",
              "      <th>7</th>\n",
              "      <td>12/14/2021</td>\n",
              "      <td>8:17</td>\n",
              "      <td>BRONX</td>\n",
              "      <td>10475.0</td>\n",
              "      <td>40.868160</td>\n",
              "      <td>-73.831480</td>\n",
              "      <td>(40.86816, -73.83148)</td>\n",
              "      <td>NaN</td>\n",
              "      <td>NaN</td>\n",
              "      <td>344       BAYCHESTER AVENUE</td>\n",
              "      <td>...</td>\n",
              "      <td>Unspecified</td>\n",
              "      <td>NaN</td>\n",
              "      <td>NaN</td>\n",
              "      <td>NaN</td>\n",
              "      <td>4486660</td>\n",
              "      <td>Sedan</td>\n",
              "      <td>Sedan</td>\n",
              "      <td>NaN</td>\n",
              "      <td>NaN</td>\n",
              "      <td>NaN</td>\n",
              "    </tr>\n",
              "    <tr>\n",
              "      <th>8</th>\n",
              "      <td>12/14/2021</td>\n",
              "      <td>21:10</td>\n",
              "      <td>BROOKLYN</td>\n",
              "      <td>11207.0</td>\n",
              "      <td>40.671720</td>\n",
              "      <td>-73.897100</td>\n",
              "      <td>(40.67172, -73.8971)</td>\n",
              "      <td>NaN</td>\n",
              "      <td>NaN</td>\n",
              "      <td>2047      PITKIN AVENUE</td>\n",
              "      <td>...</td>\n",
              "      <td>Unspecified</td>\n",
              "      <td>NaN</td>\n",
              "      <td>NaN</td>\n",
              "      <td>NaN</td>\n",
              "      <td>4487074</td>\n",
              "      <td>Sedan</td>\n",
              "      <td>NaN</td>\n",
              "      <td>NaN</td>\n",
              "      <td>NaN</td>\n",
              "      <td>NaN</td>\n",
              "    </tr>\n",
              "    <tr>\n",
              "      <th>9</th>\n",
              "      <td>12/14/2021</td>\n",
              "      <td>14:58</td>\n",
              "      <td>MANHATTAN</td>\n",
              "      <td>10017.0</td>\n",
              "      <td>40.751440</td>\n",
              "      <td>-73.973970</td>\n",
              "      <td>(40.75144, -73.97397)</td>\n",
              "      <td>3 AVENUE</td>\n",
              "      <td>EAST 43 STREET</td>\n",
              "      <td>NaN</td>\n",
              "      <td>...</td>\n",
              "      <td>Unspecified</td>\n",
              "      <td>NaN</td>\n",
              "      <td>NaN</td>\n",
              "      <td>NaN</td>\n",
              "      <td>4486519</td>\n",
              "      <td>Sedan</td>\n",
              "      <td>Station Wagon/Sport Utility Vehicle</td>\n",
              "      <td>NaN</td>\n",
              "      <td>NaN</td>\n",
              "      <td>NaN</td>\n",
              "    </tr>\n",
              "  </tbody>\n",
              "</table>\n",
              "<p>10 rows × 29 columns</p>\n",
              "</div>"
            ],
            "text/plain": [
              "   CRASH DATE CRASH TIME    BOROUGH ZIP CODE   LATITUDE  LONGITUDE  \\\n",
              "0  09/11/2021       2:39        NaN      NaN        NaN        NaN   \n",
              "1  03/26/2022      11:45        NaN      NaN        NaN        NaN   \n",
              "2  06/29/2022       6:55        NaN      NaN        NaN        NaN   \n",
              "3  09/11/2021       9:35   BROOKLYN  11208.0  40.667202 -73.866500   \n",
              "4  12/14/2021       8:13   BROOKLYN  11233.0  40.683304 -73.917274   \n",
              "5  04/14/2021      12:47        NaN      NaN        NaN        NaN   \n",
              "6  12/14/2021      17:05        NaN      NaN  40.709183 -73.956825   \n",
              "7  12/14/2021       8:17      BRONX  10475.0  40.868160 -73.831480   \n",
              "8  12/14/2021      21:10   BROOKLYN  11207.0  40.671720 -73.897100   \n",
              "9  12/14/2021      14:58  MANHATTAN  10017.0  40.751440 -73.973970   \n",
              "\n",
              "                  LOCATION                ON STREET NAME CROSS STREET NAME  \\\n",
              "0                      NaN         WHITESTONE EXPRESSWAY         20 AVENUE   \n",
              "1                      NaN       QUEENSBORO BRIDGE UPPER               NaN   \n",
              "2                      NaN            THROGS NECK BRIDGE               NaN   \n",
              "3    (40.667202, -73.8665)                           NaN               NaN   \n",
              "4  (40.683304, -73.917274)               SARATOGA AVENUE    DECATUR STREET   \n",
              "5                      NaN  MAJOR DEEGAN EXPRESSWAY RAMP               NaN   \n",
              "6  (40.709183, -73.956825)    BROOKLYN QUEENS EXPRESSWAY               NaN   \n",
              "7    (40.86816, -73.83148)                           NaN               NaN   \n",
              "8     (40.67172, -73.8971)                           NaN               NaN   \n",
              "9    (40.75144, -73.97397)                      3 AVENUE    EAST 43 STREET   \n",
              "\n",
              "               OFF STREET NAME  ...  CONTRIBUTING FACTOR VEHICLE 2  \\\n",
              "0                          NaN  ...                    Unspecified   \n",
              "1                          NaN  ...                            NaN   \n",
              "2                          NaN  ...                    Unspecified   \n",
              "3      1211      LORING AVENUE  ...                            NaN   \n",
              "4                          NaN  ...                            NaN   \n",
              "5                          NaN  ...                    Unspecified   \n",
              "6                          NaN  ...                    Unspecified   \n",
              "7  344       BAYCHESTER AVENUE  ...                    Unspecified   \n",
              "8      2047      PITKIN AVENUE  ...                    Unspecified   \n",
              "9                          NaN  ...                    Unspecified   \n",
              "\n",
              "   CONTRIBUTING FACTOR VEHICLE 3  CONTRIBUTING FACTOR VEHICLE 4  \\\n",
              "0                            NaN                            NaN   \n",
              "1                            NaN                            NaN   \n",
              "2                            NaN                            NaN   \n",
              "3                            NaN                            NaN   \n",
              "4                            NaN                            NaN   \n",
              "5                            NaN                            NaN   \n",
              "6                            NaN                            NaN   \n",
              "7                            NaN                            NaN   \n",
              "8                            NaN                            NaN   \n",
              "9                            NaN                            NaN   \n",
              "\n",
              "   CONTRIBUTING FACTOR VEHICLE 5  COLLISION_ID  VEHICLE TYPE CODE 1  \\\n",
              "0                            NaN       4455765                Sedan   \n",
              "1                            NaN       4513547                Sedan   \n",
              "2                            NaN       4541903                Sedan   \n",
              "3                            NaN       4456314                Sedan   \n",
              "4                            NaN       4486609                  NaN   \n",
              "5                            NaN       4407458                 Dump   \n",
              "6                            NaN       4486555                Sedan   \n",
              "7                            NaN       4486660                Sedan   \n",
              "8                            NaN       4487074                Sedan   \n",
              "9                            NaN       4486519                Sedan   \n",
              "\n",
              "                   VEHICLE TYPE CODE 2  VEHICLE TYPE CODE 3  \\\n",
              "0                                Sedan                  NaN   \n",
              "1                                  NaN                  NaN   \n",
              "2                        Pick-up Truck                  NaN   \n",
              "3                                  NaN                  NaN   \n",
              "4                                  NaN                  NaN   \n",
              "5                                Sedan                  NaN   \n",
              "6                 Tractor Truck Diesel                  NaN   \n",
              "7                                Sedan                  NaN   \n",
              "8                                  NaN                  NaN   \n",
              "9  Station Wagon/Sport Utility Vehicle                  NaN   \n",
              "\n",
              "  VEHICLE TYPE CODE 4 VEHICLE TYPE CODE 5  \n",
              "0                 NaN                 NaN  \n",
              "1                 NaN                 NaN  \n",
              "2                 NaN                 NaN  \n",
              "3                 NaN                 NaN  \n",
              "4                 NaN                 NaN  \n",
              "5                 NaN                 NaN  \n",
              "6                 NaN                 NaN  \n",
              "7                 NaN                 NaN  \n",
              "8                 NaN                 NaN  \n",
              "9                 NaN                 NaN  \n",
              "\n",
              "[10 rows x 29 columns]"
            ]
          },
          "execution_count": 4,
          "metadata": {},
          "output_type": "execute_result"
        }
      ],
      "source": [
        "crashes_df.head(10)"
      ]
    },
    {
      "cell_type": "code",
      "execution_count": null,
      "id": "7a7ad987-ec41-4190-998f-76def138e88b",
      "metadata": {
        "id": "7a7ad987-ec41-4190-998f-76def138e88b",
        "outputId": "be76bc12-18b2-4e71-aa03-74c1d412e183"
      },
      "outputs": [
        {
          "data": {
            "text/plain": [
              "(2132793, 29)"
            ]
          },
          "execution_count": 5,
          "metadata": {},
          "output_type": "execute_result"
        }
      ],
      "source": [
        "crashes_df.shape"
      ]
    },
    {
      "cell_type": "code",
      "execution_count": null,
      "id": "87702d10-d724-4e73-a94c-44678b2cd334",
      "metadata": {
        "id": "87702d10-d724-4e73-a94c-44678b2cd334",
        "outputId": "bd0c38bc-b8e3-4de2-f6aa-9d5c61d39869"
      },
      "outputs": [
        {
          "data": {
            "text/plain": [
              "Index(['CRASH DATE', 'CRASH TIME', 'BOROUGH', 'ZIP CODE', 'LATITUDE',\n",
              "       'LONGITUDE', 'LOCATION', 'ON STREET NAME', 'CROSS STREET NAME',\n",
              "       'OFF STREET NAME', 'NUMBER OF PERSONS INJURED',\n",
              "       'NUMBER OF PERSONS KILLED', 'NUMBER OF PEDESTRIANS INJURED',\n",
              "       'NUMBER OF PEDESTRIANS KILLED', 'NUMBER OF CYCLIST INJURED',\n",
              "       'NUMBER OF CYCLIST KILLED', 'NUMBER OF MOTORIST INJURED',\n",
              "       'NUMBER OF MOTORIST KILLED', 'CONTRIBUTING FACTOR VEHICLE 1',\n",
              "       'CONTRIBUTING FACTOR VEHICLE 2', 'CONTRIBUTING FACTOR VEHICLE 3',\n",
              "       'CONTRIBUTING FACTOR VEHICLE 4', 'CONTRIBUTING FACTOR VEHICLE 5',\n",
              "       'COLLISION_ID', 'VEHICLE TYPE CODE 1', 'VEHICLE TYPE CODE 2',\n",
              "       'VEHICLE TYPE CODE 3', 'VEHICLE TYPE CODE 4', 'VEHICLE TYPE CODE 5'],\n",
              "      dtype='object')"
            ]
          },
          "execution_count": 6,
          "metadata": {},
          "output_type": "execute_result"
        }
      ],
      "source": [
        "crashes_df.columns"
      ]
    },
    {
      "cell_type": "code",
      "execution_count": null,
      "id": "13e103f0-7294-4348-88cd-d549c545af81",
      "metadata": {
        "id": "13e103f0-7294-4348-88cd-d549c545af81",
        "outputId": "63d33593-1fbf-4afa-c42e-102a4bec855a"
      },
      "outputs": [
        {
          "name": "stdout",
          "output_type": "stream",
          "text": [
            "<class 'pandas.core.frame.DataFrame'>\n",
            "RangeIndex: 2132793 entries, 0 to 2132792\n",
            "Data columns (total 29 columns):\n",
            " #   Column                         Dtype  \n",
            "---  ------                         -----  \n",
            " 0   CRASH DATE                     object \n",
            " 1   CRASH TIME                     object \n",
            " 2   BOROUGH                        object \n",
            " 3   ZIP CODE                       object \n",
            " 4   LATITUDE                       float64\n",
            " 5   LONGITUDE                      float64\n",
            " 6   LOCATION                       object \n",
            " 7   ON STREET NAME                 object \n",
            " 8   CROSS STREET NAME              object \n",
            " 9   OFF STREET NAME                object \n",
            " 10  NUMBER OF PERSONS INJURED      float64\n",
            " 11  NUMBER OF PERSONS KILLED       float64\n",
            " 12  NUMBER OF PEDESTRIANS INJURED  int64  \n",
            " 13  NUMBER OF PEDESTRIANS KILLED   int64  \n",
            " 14  NUMBER OF CYCLIST INJURED      int64  \n",
            " 15  NUMBER OF CYCLIST KILLED       int64  \n",
            " 16  NUMBER OF MOTORIST INJURED     int64  \n",
            " 17  NUMBER OF MOTORIST KILLED      int64  \n",
            " 18  CONTRIBUTING FACTOR VEHICLE 1  object \n",
            " 19  CONTRIBUTING FACTOR VEHICLE 2  object \n",
            " 20  CONTRIBUTING FACTOR VEHICLE 3  object \n",
            " 21  CONTRIBUTING FACTOR VEHICLE 4  object \n",
            " 22  CONTRIBUTING FACTOR VEHICLE 5  object \n",
            " 23  COLLISION_ID                   int64  \n",
            " 24  VEHICLE TYPE CODE 1            object \n",
            " 25  VEHICLE TYPE CODE 2            object \n",
            " 26  VEHICLE TYPE CODE 3            object \n",
            " 27  VEHICLE TYPE CODE 4            object \n",
            " 28  VEHICLE TYPE CODE 5            object \n",
            "dtypes: float64(4), int64(7), object(18)\n",
            "memory usage: 471.9+ MB\n"
          ]
        }
      ],
      "source": [
        "crashes_df.info()"
      ]
    },
    {
      "cell_type": "code",
      "execution_count": null,
      "id": "1e5805e9-3f2f-4a43-8d14-e6ac8e606f7c",
      "metadata": {
        "id": "1e5805e9-3f2f-4a43-8d14-e6ac8e606f7c",
        "outputId": "0aedcdd7-ada7-40c4-df6e-5b8c5d810173"
      },
      "outputs": [
        {
          "data": {
            "text/html": [
              "<div>\n",
              "<style scoped>\n",
              "    .dataframe tbody tr th:only-of-type {\n",
              "        vertical-align: middle;\n",
              "    }\n",
              "\n",
              "    .dataframe tbody tr th {\n",
              "        vertical-align: top;\n",
              "    }\n",
              "\n",
              "    .dataframe thead th {\n",
              "        text-align: right;\n",
              "    }\n",
              "</style>\n",
              "<table border=\"1\" class=\"dataframe\">\n",
              "  <thead>\n",
              "    <tr style=\"text-align: right;\">\n",
              "      <th></th>\n",
              "      <th>LATITUDE</th>\n",
              "      <th>LONGITUDE</th>\n",
              "      <th>NUMBER OF PERSONS INJURED</th>\n",
              "      <th>NUMBER OF PERSONS KILLED</th>\n",
              "      <th>NUMBER OF PEDESTRIANS INJURED</th>\n",
              "      <th>NUMBER OF PEDESTRIANS KILLED</th>\n",
              "      <th>NUMBER OF CYCLIST INJURED</th>\n",
              "      <th>NUMBER OF CYCLIST KILLED</th>\n",
              "      <th>NUMBER OF MOTORIST INJURED</th>\n",
              "      <th>NUMBER OF MOTORIST KILLED</th>\n",
              "      <th>COLLISION_ID</th>\n",
              "    </tr>\n",
              "  </thead>\n",
              "  <tbody>\n",
              "    <tr>\n",
              "      <th>count</th>\n",
              "      <td>1.893428e+06</td>\n",
              "      <td>1.893428e+06</td>\n",
              "      <td>2.132775e+06</td>\n",
              "      <td>2.132762e+06</td>\n",
              "      <td>2.132793e+06</td>\n",
              "      <td>2.132793e+06</td>\n",
              "      <td>2.132793e+06</td>\n",
              "      <td>2.132793e+06</td>\n",
              "      <td>2.132793e+06</td>\n",
              "      <td>2.132793e+06</td>\n",
              "      <td>2.132793e+06</td>\n",
              "    </tr>\n",
              "    <tr>\n",
              "      <th>mean</th>\n",
              "      <td>4.062639e+01</td>\n",
              "      <td>-7.374972e+01</td>\n",
              "      <td>3.177738e-01</td>\n",
              "      <td>1.536505e-03</td>\n",
              "      <td>5.759115e-02</td>\n",
              "      <td>7.572230e-04</td>\n",
              "      <td>2.782736e-02</td>\n",
              "      <td>1.209681e-04</td>\n",
              "      <td>2.282195e-01</td>\n",
              "      <td>6.343794e-04</td>\n",
              "      <td>3.202153e+06</td>\n",
              "    </tr>\n",
              "    <tr>\n",
              "      <th>std</th>\n",
              "      <td>1.993111e+00</td>\n",
              "      <td>3.741723e+00</td>\n",
              "      <td>7.068783e-01</td>\n",
              "      <td>4.139149e-02</td>\n",
              "      <td>2.460991e-01</td>\n",
              "      <td>2.808083e-02</td>\n",
              "      <td>1.665938e-01</td>\n",
              "      <td>1.104044e-02</td>\n",
              "      <td>6.681149e-01</td>\n",
              "      <td>2.756146e-02</td>\n",
              "      <td>1.506644e+06</td>\n",
              "    </tr>\n",
              "    <tr>\n",
              "      <th>min</th>\n",
              "      <td>0.000000e+00</td>\n",
              "      <td>-2.013600e+02</td>\n",
              "      <td>0.000000e+00</td>\n",
              "      <td>0.000000e+00</td>\n",
              "      <td>0.000000e+00</td>\n",
              "      <td>0.000000e+00</td>\n",
              "      <td>0.000000e+00</td>\n",
              "      <td>0.000000e+00</td>\n",
              "      <td>0.000000e+00</td>\n",
              "      <td>0.000000e+00</td>\n",
              "      <td>2.200000e+01</td>\n",
              "    </tr>\n",
              "    <tr>\n",
              "      <th>25%</th>\n",
              "      <td>4.066761e+01</td>\n",
              "      <td>-7.397474e+01</td>\n",
              "      <td>0.000000e+00</td>\n",
              "      <td>0.000000e+00</td>\n",
              "      <td>0.000000e+00</td>\n",
              "      <td>0.000000e+00</td>\n",
              "      <td>0.000000e+00</td>\n",
              "      <td>0.000000e+00</td>\n",
              "      <td>0.000000e+00</td>\n",
              "      <td>0.000000e+00</td>\n",
              "      <td>3.169318e+06</td>\n",
              "    </tr>\n",
              "    <tr>\n",
              "      <th>50%</th>\n",
              "      <td>4.072061e+01</td>\n",
              "      <td>-7.392710e+01</td>\n",
              "      <td>0.000000e+00</td>\n",
              "      <td>0.000000e+00</td>\n",
              "      <td>0.000000e+00</td>\n",
              "      <td>0.000000e+00</td>\n",
              "      <td>0.000000e+00</td>\n",
              "      <td>0.000000e+00</td>\n",
              "      <td>0.000000e+00</td>\n",
              "      <td>0.000000e+00</td>\n",
              "      <td>3.702656e+06</td>\n",
              "    </tr>\n",
              "    <tr>\n",
              "      <th>75%</th>\n",
              "      <td>4.076961e+01</td>\n",
              "      <td>-7.386679e+01</td>\n",
              "      <td>0.000000e+00</td>\n",
              "      <td>0.000000e+00</td>\n",
              "      <td>0.000000e+00</td>\n",
              "      <td>0.000000e+00</td>\n",
              "      <td>0.000000e+00</td>\n",
              "      <td>0.000000e+00</td>\n",
              "      <td>0.000000e+00</td>\n",
              "      <td>0.000000e+00</td>\n",
              "      <td>4.236090e+06</td>\n",
              "    </tr>\n",
              "    <tr>\n",
              "      <th>max</th>\n",
              "      <td>4.334444e+01</td>\n",
              "      <td>0.000000e+00</td>\n",
              "      <td>4.300000e+01</td>\n",
              "      <td>8.000000e+00</td>\n",
              "      <td>2.700000e+01</td>\n",
              "      <td>6.000000e+00</td>\n",
              "      <td>4.000000e+00</td>\n",
              "      <td>2.000000e+00</td>\n",
              "      <td>4.300000e+01</td>\n",
              "      <td>5.000000e+00</td>\n",
              "      <td>4.769583e+06</td>\n",
              "    </tr>\n",
              "  </tbody>\n",
              "</table>\n",
              "</div>"
            ],
            "text/plain": [
              "           LATITUDE     LONGITUDE  NUMBER OF PERSONS INJURED  \\\n",
              "count  1.893428e+06  1.893428e+06               2.132775e+06   \n",
              "mean   4.062639e+01 -7.374972e+01               3.177738e-01   \n",
              "std    1.993111e+00  3.741723e+00               7.068783e-01   \n",
              "min    0.000000e+00 -2.013600e+02               0.000000e+00   \n",
              "25%    4.066761e+01 -7.397474e+01               0.000000e+00   \n",
              "50%    4.072061e+01 -7.392710e+01               0.000000e+00   \n",
              "75%    4.076961e+01 -7.386679e+01               0.000000e+00   \n",
              "max    4.334444e+01  0.000000e+00               4.300000e+01   \n",
              "\n",
              "       NUMBER OF PERSONS KILLED  NUMBER OF PEDESTRIANS INJURED  \\\n",
              "count              2.132762e+06                   2.132793e+06   \n",
              "mean               1.536505e-03                   5.759115e-02   \n",
              "std                4.139149e-02                   2.460991e-01   \n",
              "min                0.000000e+00                   0.000000e+00   \n",
              "25%                0.000000e+00                   0.000000e+00   \n",
              "50%                0.000000e+00                   0.000000e+00   \n",
              "75%                0.000000e+00                   0.000000e+00   \n",
              "max                8.000000e+00                   2.700000e+01   \n",
              "\n",
              "       NUMBER OF PEDESTRIANS KILLED  NUMBER OF CYCLIST INJURED  \\\n",
              "count                  2.132793e+06               2.132793e+06   \n",
              "mean                   7.572230e-04               2.782736e-02   \n",
              "std                    2.808083e-02               1.665938e-01   \n",
              "min                    0.000000e+00               0.000000e+00   \n",
              "25%                    0.000000e+00               0.000000e+00   \n",
              "50%                    0.000000e+00               0.000000e+00   \n",
              "75%                    0.000000e+00               0.000000e+00   \n",
              "max                    6.000000e+00               4.000000e+00   \n",
              "\n",
              "       NUMBER OF CYCLIST KILLED  NUMBER OF MOTORIST INJURED  \\\n",
              "count              2.132793e+06                2.132793e+06   \n",
              "mean               1.209681e-04                2.282195e-01   \n",
              "std                1.104044e-02                6.681149e-01   \n",
              "min                0.000000e+00                0.000000e+00   \n",
              "25%                0.000000e+00                0.000000e+00   \n",
              "50%                0.000000e+00                0.000000e+00   \n",
              "75%                0.000000e+00                0.000000e+00   \n",
              "max                2.000000e+00                4.300000e+01   \n",
              "\n",
              "       NUMBER OF MOTORIST KILLED  COLLISION_ID  \n",
              "count               2.132793e+06  2.132793e+06  \n",
              "mean                6.343794e-04  3.202153e+06  \n",
              "std                 2.756146e-02  1.506644e+06  \n",
              "min                 0.000000e+00  2.200000e+01  \n",
              "25%                 0.000000e+00  3.169318e+06  \n",
              "50%                 0.000000e+00  3.702656e+06  \n",
              "75%                 0.000000e+00  4.236090e+06  \n",
              "max                 5.000000e+00  4.769583e+06  "
            ]
          },
          "execution_count": 8,
          "metadata": {},
          "output_type": "execute_result"
        }
      ],
      "source": [
        "crashes_df.describe()"
      ]
    },
    {
      "cell_type": "markdown",
      "id": "96be6941-b4e8-42ed-8e2b-c9bf05b13115",
      "metadata": {
        "id": "96be6941-b4e8-42ed-8e2b-c9bf05b13115"
      },
      "source": [
        "# Checking Null Values"
      ]
    },
    {
      "cell_type": "code",
      "execution_count": null,
      "id": "e6bc1892-32c2-408e-8cd4-b5f31c3735c2",
      "metadata": {
        "id": "e6bc1892-32c2-408e-8cd4-b5f31c3735c2",
        "outputId": "d1772ca3-0af1-4a52-9673-89af283d7d5a"
      },
      "outputs": [
        {
          "data": {
            "text/plain": [
              "CRASH DATE                             0\n",
              "CRASH TIME                             0\n",
              "BOROUGH                           662912\n",
              "ZIP CODE                          663173\n",
              "LATITUDE                          239365\n",
              "LONGITUDE                         239365\n",
              "LOCATION                          239365\n",
              "ON STREET NAME                    457025\n",
              "CROSS STREET NAME                 813144\n",
              "OFF STREET NAME                  1768141\n",
              "NUMBER OF PERSONS INJURED             18\n",
              "NUMBER OF PERSONS KILLED              31\n",
              "NUMBER OF PEDESTRIANS INJURED          0\n",
              "NUMBER OF PEDESTRIANS KILLED           0\n",
              "NUMBER OF CYCLIST INJURED              0\n",
              "NUMBER OF CYCLIST KILLED               0\n",
              "NUMBER OF MOTORIST INJURED             0\n",
              "NUMBER OF MOTORIST KILLED              0\n",
              "CONTRIBUTING FACTOR VEHICLE 1       7190\n",
              "CONTRIBUTING FACTOR VEHICLE 2     334792\n",
              "CONTRIBUTING FACTOR VEHICLE 3    1979403\n",
              "CONTRIBUTING FACTOR VEHICLE 4    2097927\n",
              "CONTRIBUTING FACTOR VEHICLE 5    2123294\n",
              "COLLISION_ID                           0\n",
              "VEHICLE TYPE CODE 1                14591\n",
              "VEHICLE TYPE CODE 2               415473\n",
              "VEHICLE TYPE CODE 3              1985142\n",
              "VEHICLE TYPE CODE 4              2099171\n",
              "VEHICLE TYPE CODE 5              2123588\n",
              "dtype: int64"
            ]
          },
          "execution_count": 10,
          "metadata": {},
          "output_type": "execute_result"
        }
      ],
      "source": [
        "#checking null values\n",
        "crashes_df.isnull().sum()"
      ]
    },
    {
      "cell_type": "code",
      "execution_count": null,
      "id": "50da320e-b911-4124-b602-80fec9727166",
      "metadata": {
        "id": "50da320e-b911-4124-b602-80fec9727166",
        "outputId": "0bc7caa9-6b17-4dc8-d9be-08e1f70aa78b"
      },
      "outputs": [
        {
          "name": "stdout",
          "output_type": "stream",
          "text": [
            "Number of duplicate rows: 0\n"
          ]
        }
      ],
      "source": [
        "# Find duplicate rows in the entire dataset\n",
        "duplicate_rows = crashes_df[crashes_df.duplicated()]\n",
        "\n",
        "# Display count of duplicate rows\n",
        "print(f\"Number of duplicate rows: {duplicate_rows.shape[0]}\")\n"
      ]
    },
    {
      "cell_type": "code",
      "execution_count": null,
      "id": "ae1f87a3-778f-4e28-8c55-971192868a33",
      "metadata": {
        "id": "ae1f87a3-778f-4e28-8c55-971192868a33",
        "outputId": "0a7d3033-5020-47a1-9c31-4826c9a553e2"
      },
      "outputs": [
        {
          "name": "stdout",
          "output_type": "stream",
          "text": [
            "Number of duplicate COLLISION_IDs: 0\n"
          ]
        }
      ],
      "source": [
        "# Find duplicate entries based on COLLISION_ID\n",
        "duplicate_collision_ids = crashes_df[crashes_df.duplicated(subset=['COLLISION_ID'])]\n",
        "\n",
        "# Display count of duplicate COLLISION_IDs\n",
        "print(f\"Number of duplicate COLLISION_IDs: {duplicate_collision_ids.shape[0]}\")\n"
      ]
    },
    {
      "cell_type": "markdown",
      "id": "b7835924-18b2-44c2-bcb8-9925cc4c4f13",
      "metadata": {
        "id": "b7835924-18b2-44c2-bcb8-9925cc4c4f13"
      },
      "source": [
        "We are focusing on clustering by BOROUGH and may need LOCATION (coordinates) for map visualization. Other location-related columns like ZIP Code, street names, latitude, and longitude are unnecessary for the analysis, so they're dropped to simplify the dataset."
      ]
    },
    {
      "cell_type": "code",
      "execution_count": null,
      "id": "1d9353be-61ca-4b87-923b-57ba96c2ff55",
      "metadata": {
        "id": "1d9353be-61ca-4b87-923b-57ba96c2ff55",
        "outputId": "9c9527b0-fafa-44d7-ec71-507c0420ff33"
      },
      "outputs": [
        {
          "name": "stdout",
          "output_type": "stream",
          "text": [
            "Index(['CRASH DATE', 'CRASH TIME', 'BOROUGH', 'LOCATION',\n",
            "       'NUMBER OF PERSONS INJURED', 'NUMBER OF PERSONS KILLED',\n",
            "       'NUMBER OF PEDESTRIANS INJURED', 'NUMBER OF PEDESTRIANS KILLED',\n",
            "       'NUMBER OF CYCLIST INJURED', 'NUMBER OF CYCLIST KILLED',\n",
            "       'NUMBER OF MOTORIST INJURED', 'NUMBER OF MOTORIST KILLED',\n",
            "       'CONTRIBUTING FACTOR VEHICLE 1', 'CONTRIBUTING FACTOR VEHICLE 2',\n",
            "       'CONTRIBUTING FACTOR VEHICLE 3', 'CONTRIBUTING FACTOR VEHICLE 4',\n",
            "       'CONTRIBUTING FACTOR VEHICLE 5', 'COLLISION_ID', 'VEHICLE TYPE CODE 1',\n",
            "       'VEHICLE TYPE CODE 2', 'VEHICLE TYPE CODE 3', 'VEHICLE TYPE CODE 4',\n",
            "       'VEHICLE TYPE CODE 5'],\n",
            "      dtype='object')\n"
          ]
        }
      ],
      "source": [
        "# Define columns to drop, retaining only BOROUGH and LOCATION for location-based analysis\n",
        "location_columns_to_drop = ['ZIP CODE', 'LATITUDE', 'LONGITUDE', 'ON STREET NAME',\n",
        "                            'CROSS STREET NAME', 'OFF STREET NAME']\n",
        "\n",
        "# Drop unnecessary columns related to location\n",
        "crashes_df = crashes_df.drop(columns=location_columns_to_drop)\n",
        "\n",
        "# Check the remaining columns to ensure only BOROUGH and LOCATION are retained for location-based analysis\n",
        "print(crashes_df.columns)"
      ]
    },
    {
      "cell_type": "markdown",
      "id": "31a5ad3e-3321-4ced-a001-75787126af33",
      "metadata": {
        "id": "31a5ad3e-3321-4ced-a001-75787126af33"
      },
      "source": [
        "Although there are five contributing factors, it is clear that factors 3, 4, and 5 are typically absent after adding up the empty rows for each. Keeping in mind that there are currently 2132793 rows, 92.81% of them are already missing by the third factor, and 93.08% of them are already missing by vehicle type code 3."
      ]
    },
    {
      "cell_type": "code",
      "execution_count": null,
      "id": "8a6befe0-e917-4348-86c9-74e4946c3f04",
      "metadata": {
        "id": "8a6befe0-e917-4348-86c9-74e4946c3f04"
      },
      "outputs": [],
      "source": [
        "crashes_df = crashes_df.drop(columns=['CONTRIBUTING FACTOR VEHICLE 3', 'CONTRIBUTING FACTOR VEHICLE 4', 'CONTRIBUTING FACTOR VEHICLE 5', 'VEHICLE TYPE CODE 3', 'VEHICLE TYPE CODE 4', 'VEHICLE TYPE CODE 5'])"
      ]
    },
    {
      "cell_type": "markdown",
      "id": "b32be157-38a5-42ff-bdba-02aebdbc0406",
      "metadata": {
        "id": "b32be157-38a5-42ff-bdba-02aebdbc0406"
      },
      "source": [
        "we need to fill in the missing values first. In this case, I replaced NaN with 0 then change it to int64.\n",
        "\n"
      ]
    },
    {
      "cell_type": "code",
      "execution_count": null,
      "id": "12fd720a-5a41-4d38-b17d-4b0e350f45a0",
      "metadata": {
        "id": "12fd720a-5a41-4d38-b17d-4b0e350f45a0"
      },
      "outputs": [],
      "source": [
        "crashes_df['NUMBER OF PERSONS KILLED'] = crashes_df['NUMBER OF PERSONS KILLED'].fillna('0').astype('int64')\n",
        "crashes_df['NUMBER OF PERSONS INJURED'] = crashes_df['NUMBER OF PERSONS INJURED'].fillna('0').astype('int64')\n"
      ]
    },
    {
      "cell_type": "code",
      "execution_count": null,
      "id": "d59955e1-e82e-4c73-8755-2d318028ea1e",
      "metadata": {
        "id": "d59955e1-e82e-4c73-8755-2d318028ea1e"
      },
      "outputs": [],
      "source": [
        "crashes_df['CRASH DATE'] = pd.to_datetime(crashes_df['CRASH DATE'])\n",
        "crashes_df['CRASH DATE'] = crashes_df['CRASH DATE'].dt.date\n",
        "crashes_df['CRASH DATE'] = crashes_df['CRASH DATE'].astype(str)\n",
        "\n",
        "crashes_df['DateTime'] = pd.to_datetime(crashes_df['CRASH DATE'] + ' ' +crashes_df['CRASH TIME'])\n",
        "\n",
        "\n",
        "crashes_df['CRASH DATE'] = pd.to_datetime(crashes_df['DateTime'])\n"
      ]
    },
    {
      "cell_type": "code",
      "execution_count": null,
      "id": "81a3f8e1-f2a0-4d61-a1df-b0825987ebcf",
      "metadata": {
        "id": "81a3f8e1-f2a0-4d61-a1df-b0825987ebcf"
      },
      "outputs": [],
      "source": [
        "crashes_df = crashes_df.drop(columns=['CRASH TIME','DateTime'])"
      ]
    },
    {
      "cell_type": "code",
      "execution_count": null,
      "id": "3f075ee7-f9f6-455a-864e-f5ff4a594d63",
      "metadata": {
        "id": "3f075ee7-f9f6-455a-864e-f5ff4a594d63",
        "outputId": "37ebe17f-bd11-49ee-9ef3-6c190b87f60c"
      },
      "outputs": [
        {
          "name": "stdout",
          "output_type": "stream",
          "text": [
            "There are total of 662912\n"
          ]
        }
      ],
      "source": [
        "missing_borough = crashes_df['BOROUGH'].isnull().sum()\n",
        "print(\"There are total of\", missing_borough)"
      ]
    },
    {
      "cell_type": "markdown",
      "id": "66f5cd53-7b18-408b-af68-486e028738f1",
      "metadata": {
        "id": "66f5cd53-7b18-408b-af68-486e028738f1"
      },
      "source": [
        "The missing values for the borough (662912 rows) comprised 31.08% of the dataset so we decided to replace the NaN with ‘unspecified’ instead of dropping them."
      ]
    },
    {
      "cell_type": "code",
      "execution_count": null,
      "id": "4a917e20-2916-4e72-8708-6d634ad801cd",
      "metadata": {
        "id": "4a917e20-2916-4e72-8708-6d634ad801cd"
      },
      "outputs": [],
      "source": [
        "crashes_df['BOROUGH'].fillna('Unspecified', inplace=True)"
      ]
    },
    {
      "cell_type": "code",
      "execution_count": null,
      "id": "6e764f7f-1bd5-4f7d-90b3-d4908b5d11d8",
      "metadata": {
        "id": "6e764f7f-1bd5-4f7d-90b3-d4908b5d11d8",
        "outputId": "379fbf2e-9313-41a0-bf8b-55d99892e660"
      },
      "outputs": [
        {
          "name": "stdout",
          "output_type": "stream",
          "text": [
            "All_factors    61\n",
            "dtype: int64\n"
          ]
        }
      ],
      "source": [
        "# Merge two columns of factors\n",
        "total_factors = pd.concat([crashes_df['CONTRIBUTING FACTOR VEHICLE 1'], crashes_df['CONTRIBUTING FACTOR VEHICLE 2']], ignore_index=True)\n",
        "\n",
        "# Turn into a DataFrame that we can sort\n",
        "df_total_factors = pd.DataFrame(total_factors, columns=['All_factors'])\n",
        "\n",
        "# Sort\n",
        "df_total_factors.sort_values(by='All_factors', inplace=True)\n",
        "\n",
        "# Display all rows\n",
        "#pd.set_option('display.max_rows', None)\n",
        "\n",
        "print(df_total_factors.nunique())"
      ]
    },
    {
      "cell_type": "code",
      "execution_count": null,
      "id": "079492d4-369e-4c9d-b0bf-2c9c5d1f7abe",
      "metadata": {
        "id": "079492d4-369e-4c9d-b0bf-2c9c5d1f7abe",
        "outputId": "c0284416-e9b3-4ab4-bba0-9bb82b0c2887"
      },
      "outputs": [
        {
          "data": {
            "text/plain": [
              "array(['1', '80', 'Accelerator Defective', 'Aggressive Driving/Road Rage',\n",
              "       'Alcohol Involvement', 'Animals Action', 'Backing Unsafely',\n",
              "       'Brakes Defective', 'Cell Phone (hand-Held)',\n",
              "       'Cell Phone (hand-held)', 'Cell Phone (hands-free)',\n",
              "       'Driver Inattention/Distraction', 'Driver Inexperience',\n",
              "       'Driverless/Runaway Vehicle', 'Drugs (Illegal)', 'Drugs (illegal)',\n",
              "       'Eating or Drinking', 'Failure to Keep Right',\n",
              "       'Failure to Yield Right-of-Way', 'Fatigued/Drowsy', 'Fell Asleep',\n",
              "       'Following Too Closely', 'Glare', 'Headlights Defective', 'Illnes',\n",
              "       'Illness', 'Lane Marking Improper/Inadequate',\n",
              "       'Listening/Using Headphones', 'Lost Consciousness',\n",
              "       'Obstruction/Debris', 'Other Electronic Device',\n",
              "       'Other Lighting Defects', 'Other Vehicular',\n",
              "       'Outside Car Distraction', 'Oversized Vehicle',\n",
              "       'Passenger Distraction', 'Passing Too Closely',\n",
              "       'Passing or Lane Usage Improper', 'Pavement Defective',\n",
              "       'Pavement Slippery',\n",
              "       'Pedestrian/Bicyclist/Other Pedestrian Error/Confusion',\n",
              "       'Physical Disability', 'Prescription Medication',\n",
              "       'Reaction to Other Uninvolved Vehicle',\n",
              "       'Reaction to Uninvolved Vehicle', 'Shoulders Defective/Improper',\n",
              "       'Steering Failure', 'Texting', 'Tinted Windows',\n",
              "       'Tire Failure/Inadequate', 'Tow Hitch Defective',\n",
              "       'Traffic Control Device Improper/Non-Working',\n",
              "       'Traffic Control Disregarded', 'Turning Improperly',\n",
              "       'Unsafe Lane Changing', 'Unsafe Speed', 'Unspecified',\n",
              "       'Using On Board Navigation Device', 'Vehicle Vandalism',\n",
              "       'View Obstructed/Limited', 'Windshield Inadequate', nan],\n",
              "      dtype=object)"
            ]
          },
          "execution_count": 25,
          "metadata": {},
          "output_type": "execute_result"
        }
      ],
      "source": [
        "df_total_factors['All_factors'].unique()"
      ]
    },
    {
      "cell_type": "markdown",
      "id": "d9af676e-e7e4-4adb-9f11-b184e54e3104",
      "metadata": {
        "id": "d9af676e-e7e4-4adb-9f11-b184e54e3104"
      },
      "source": [
        "There are 61 unique values for the factors, and printing them in full revealed that there were indeed misspellings of some terms (e.g. Illnes and Ilness)."
      ]
    },
    {
      "cell_type": "code",
      "execution_count": null,
      "id": "62982df6-7fea-4bf8-9b8f-d99172db53b0",
      "metadata": {
        "id": "62982df6-7fea-4bf8-9b8f-d99172db53b0"
      },
      "outputs": [],
      "source": [
        "replacements = {\n",
        "    'Cellphone (hand-held)': {'Cell Phone (hand-Held)', 'Cell Phone (hand-held)'},\n",
        "    'Drugs (illegal)': {'Drugs (Illegal)', 'Drugs (illegal)'},\n",
        "    'Illness': {'Illnes', 'Illness'},\n",
        "    'Reaction to Uninvolved Vehicle': {'Reaction to Other Uninvolved Vehicle', 'Reaction to Uninvolved Vehicle'}\n",
        "}"
      ]
    },
    {
      "cell_type": "code",
      "execution_count": null,
      "id": "80872e4f-0139-4b10-8c37-c9ac21403c26",
      "metadata": {
        "id": "80872e4f-0139-4b10-8c37-c9ac21403c26"
      },
      "outputs": [],
      "source": [
        "crashes_df['CONTRIBUTING FACTOR VEHICLE 1'] = crashes_df['CONTRIBUTING FACTOR VEHICLE 1'].replace(replacements)\n",
        "crashes_df['CONTRIBUTING FACTOR VEHICLE 2'] = crashes_df['CONTRIBUTING FACTOR VEHICLE 2'].replace(replacements)"
      ]
    },
    {
      "cell_type": "code",
      "execution_count": null,
      "id": "5b460724-fe24-4e08-956e-c460bd5af977",
      "metadata": {
        "id": "5b460724-fe24-4e08-956e-c460bd5af977"
      },
      "outputs": [],
      "source": [
        "crashes_df['CONTRIBUTING FACTOR VEHICLE 1'].fillna('Unspecified', inplace=True)\n",
        "crashes_df['CONTRIBUTING FACTOR VEHICLE 2'].fillna('Unspecified', inplace=True)"
      ]
    },
    {
      "cell_type": "code",
      "execution_count": null,
      "id": "135c5306-eb52-4427-96cd-261305de6c5b",
      "metadata": {
        "id": "135c5306-eb52-4427-96cd-261305de6c5b"
      },
      "outputs": [],
      "source": [
        "crashes_df['CONTRIBUTING FACTOR VEHICLE 1'] = crashes_df['CONTRIBUTING FACTOR VEHICLE 1'].apply(str)\n",
        "crashes_df['CONTRIBUTING FACTOR VEHICLE 2'] = crashes_df['CONTRIBUTING FACTOR VEHICLE 2'].apply(str)\n"
      ]
    },
    {
      "cell_type": "code",
      "execution_count": null,
      "id": "dce580aa-4629-469c-a381-150e44aa295b",
      "metadata": {
        "id": "dce580aa-4629-469c-a381-150e44aa295b"
      },
      "outputs": [],
      "source": [
        "crashes_df['VEHICLE TYPE CODE 1'].fillna('Unspecified', inplace=True)\n",
        "crashes_df['VEHICLE TYPE CODE 2'].fillna('Unspecified', inplace=True)"
      ]
    },
    {
      "cell_type": "markdown",
      "id": "8f5d58b9-e854-4490-bc3a-264d5bedc52f",
      "metadata": {
        "id": "8f5d58b9-e854-4490-bc3a-264d5bedc52f"
      },
      "source": [
        "# Motor Vechicle Collision - Persons\n",
        "\n"
      ]
    },
    {
      "cell_type": "code",
      "execution_count": null,
      "id": "f59d2202-346a-429f-a770-308e00a2b345",
      "metadata": {
        "id": "f59d2202-346a-429f-a770-308e00a2b345",
        "outputId": "9fe01949-24dc-4a17-f76c-9afcd009b3ed"
      },
      "outputs": [
        {
          "data": {
            "text/html": [
              "<div>\n",
              "<style scoped>\n",
              "    .dataframe tbody tr th:only-of-type {\n",
              "        vertical-align: middle;\n",
              "    }\n",
              "\n",
              "    .dataframe tbody tr th {\n",
              "        vertical-align: top;\n",
              "    }\n",
              "\n",
              "    .dataframe thead th {\n",
              "        text-align: right;\n",
              "    }\n",
              "</style>\n",
              "<table border=\"1\" class=\"dataframe\">\n",
              "  <thead>\n",
              "    <tr style=\"text-align: right;\">\n",
              "      <th></th>\n",
              "      <th>UNIQUE_ID</th>\n",
              "      <th>COLLISION_ID</th>\n",
              "      <th>CRASH_DATE</th>\n",
              "      <th>CRASH_TIME</th>\n",
              "      <th>PERSON_ID</th>\n",
              "      <th>PERSON_TYPE</th>\n",
              "      <th>PERSON_INJURY</th>\n",
              "      <th>VEHICLE_ID</th>\n",
              "      <th>PERSON_AGE</th>\n",
              "      <th>EJECTION</th>\n",
              "      <th>...</th>\n",
              "      <th>BODILY_INJURY</th>\n",
              "      <th>POSITION_IN_VEHICLE</th>\n",
              "      <th>SAFETY_EQUIPMENT</th>\n",
              "      <th>PED_LOCATION</th>\n",
              "      <th>PED_ACTION</th>\n",
              "      <th>COMPLAINT</th>\n",
              "      <th>PED_ROLE</th>\n",
              "      <th>CONTRIBUTING_FACTOR_1</th>\n",
              "      <th>CONTRIBUTING_FACTOR_2</th>\n",
              "      <th>PERSON_SEX</th>\n",
              "    </tr>\n",
              "  </thead>\n",
              "  <tbody>\n",
              "    <tr>\n",
              "      <th>0</th>\n",
              "      <td>10249006</td>\n",
              "      <td>4229554</td>\n",
              "      <td>10/26/2019</td>\n",
              "      <td>9:43</td>\n",
              "      <td>31aa2bc0-f545-444f-8cdb-f1cb5cf00b89</td>\n",
              "      <td>Occupant</td>\n",
              "      <td>Unspecified</td>\n",
              "      <td>19141108.0</td>\n",
              "      <td>NaN</td>\n",
              "      <td>NaN</td>\n",
              "      <td>...</td>\n",
              "      <td>NaN</td>\n",
              "      <td>NaN</td>\n",
              "      <td>NaN</td>\n",
              "      <td>NaN</td>\n",
              "      <td>NaN</td>\n",
              "      <td>NaN</td>\n",
              "      <td>Registrant</td>\n",
              "      <td>NaN</td>\n",
              "      <td>NaN</td>\n",
              "      <td>U</td>\n",
              "    </tr>\n",
              "    <tr>\n",
              "      <th>1</th>\n",
              "      <td>10255054</td>\n",
              "      <td>4230587</td>\n",
              "      <td>10/25/2019</td>\n",
              "      <td>15:15</td>\n",
              "      <td>4629e500-a73e-48dc-b8fb-53124d124b80</td>\n",
              "      <td>Occupant</td>\n",
              "      <td>Unspecified</td>\n",
              "      <td>19144075.0</td>\n",
              "      <td>33.0</td>\n",
              "      <td>Not Ejected</td>\n",
              "      <td>...</td>\n",
              "      <td>Does Not Apply</td>\n",
              "      <td>Front passenger, if two or more persons, inclu...</td>\n",
              "      <td>Lap Belt &amp; Harness</td>\n",
              "      <td>NaN</td>\n",
              "      <td>NaN</td>\n",
              "      <td>Does Not Apply</td>\n",
              "      <td>Passenger</td>\n",
              "      <td>NaN</td>\n",
              "      <td>NaN</td>\n",
              "      <td>F</td>\n",
              "    </tr>\n",
              "    <tr>\n",
              "      <th>2</th>\n",
              "      <td>10253177</td>\n",
              "      <td>4230550</td>\n",
              "      <td>10/26/2019</td>\n",
              "      <td>17:55</td>\n",
              "      <td>ae48c136-1383-45db-83f4-2a5eecfb7cff</td>\n",
              "      <td>Occupant</td>\n",
              "      <td>Unspecified</td>\n",
              "      <td>19143133.0</td>\n",
              "      <td>55.0</td>\n",
              "      <td>NaN</td>\n",
              "      <td>...</td>\n",
              "      <td>NaN</td>\n",
              "      <td>NaN</td>\n",
              "      <td>NaN</td>\n",
              "      <td>NaN</td>\n",
              "      <td>NaN</td>\n",
              "      <td>NaN</td>\n",
              "      <td>Registrant</td>\n",
              "      <td>NaN</td>\n",
              "      <td>NaN</td>\n",
              "      <td>M</td>\n",
              "    </tr>\n",
              "    <tr>\n",
              "      <th>3</th>\n",
              "      <td>6650180</td>\n",
              "      <td>3565527</td>\n",
              "      <td>11/21/2016</td>\n",
              "      <td>13:05</td>\n",
              "      <td>2782525</td>\n",
              "      <td>Occupant</td>\n",
              "      <td>Unspecified</td>\n",
              "      <td>NaN</td>\n",
              "      <td>NaN</td>\n",
              "      <td>NaN</td>\n",
              "      <td>...</td>\n",
              "      <td>NaN</td>\n",
              "      <td>NaN</td>\n",
              "      <td>NaN</td>\n",
              "      <td>NaN</td>\n",
              "      <td>NaN</td>\n",
              "      <td>NaN</td>\n",
              "      <td>Notified Person</td>\n",
              "      <td>NaN</td>\n",
              "      <td>NaN</td>\n",
              "      <td>NaN</td>\n",
              "    </tr>\n",
              "    <tr>\n",
              "      <th>4</th>\n",
              "      <td>10255516</td>\n",
              "      <td>4231168</td>\n",
              "      <td>10/25/2019</td>\n",
              "      <td>11:16</td>\n",
              "      <td>e038e18f-40fb-4471-99cf-345eae36e064</td>\n",
              "      <td>Occupant</td>\n",
              "      <td>Unspecified</td>\n",
              "      <td>19144329.0</td>\n",
              "      <td>7.0</td>\n",
              "      <td>Not Ejected</td>\n",
              "      <td>...</td>\n",
              "      <td>Does Not Apply</td>\n",
              "      <td>Right rear passenger or motorcycle sidecar pas...</td>\n",
              "      <td>Lap Belt</td>\n",
              "      <td>NaN</td>\n",
              "      <td>NaN</td>\n",
              "      <td>Does Not Apply</td>\n",
              "      <td>Passenger</td>\n",
              "      <td>NaN</td>\n",
              "      <td>NaN</td>\n",
              "      <td>F</td>\n",
              "    </tr>\n",
              "  </tbody>\n",
              "</table>\n",
              "<p>5 rows × 21 columns</p>\n",
              "</div>"
            ],
            "text/plain": [
              "   UNIQUE_ID  COLLISION_ID  CRASH_DATE CRASH_TIME  \\\n",
              "0   10249006       4229554  10/26/2019       9:43   \n",
              "1   10255054       4230587  10/25/2019      15:15   \n",
              "2   10253177       4230550  10/26/2019      17:55   \n",
              "3    6650180       3565527  11/21/2016      13:05   \n",
              "4   10255516       4231168  10/25/2019      11:16   \n",
              "\n",
              "                              PERSON_ID PERSON_TYPE PERSON_INJURY  VEHICLE_ID  \\\n",
              "0  31aa2bc0-f545-444f-8cdb-f1cb5cf00b89    Occupant   Unspecified  19141108.0   \n",
              "1  4629e500-a73e-48dc-b8fb-53124d124b80    Occupant   Unspecified  19144075.0   \n",
              "2  ae48c136-1383-45db-83f4-2a5eecfb7cff    Occupant   Unspecified  19143133.0   \n",
              "3                               2782525    Occupant   Unspecified         NaN   \n",
              "4  e038e18f-40fb-4471-99cf-345eae36e064    Occupant   Unspecified  19144329.0   \n",
              "\n",
              "   PERSON_AGE     EJECTION  ...   BODILY_INJURY  \\\n",
              "0         NaN          NaN  ...             NaN   \n",
              "1        33.0  Not Ejected  ...  Does Not Apply   \n",
              "2        55.0          NaN  ...             NaN   \n",
              "3         NaN          NaN  ...             NaN   \n",
              "4         7.0  Not Ejected  ...  Does Not Apply   \n",
              "\n",
              "                                 POSITION_IN_VEHICLE    SAFETY_EQUIPMENT  \\\n",
              "0                                                NaN                 NaN   \n",
              "1  Front passenger, if two or more persons, inclu...  Lap Belt & Harness   \n",
              "2                                                NaN                 NaN   \n",
              "3                                                NaN                 NaN   \n",
              "4  Right rear passenger or motorcycle sidecar pas...            Lap Belt   \n",
              "\n",
              "  PED_LOCATION PED_ACTION       COMPLAINT         PED_ROLE  \\\n",
              "0          NaN        NaN             NaN       Registrant   \n",
              "1          NaN        NaN  Does Not Apply        Passenger   \n",
              "2          NaN        NaN             NaN       Registrant   \n",
              "3          NaN        NaN             NaN  Notified Person   \n",
              "4          NaN        NaN  Does Not Apply        Passenger   \n",
              "\n",
              "  CONTRIBUTING_FACTOR_1 CONTRIBUTING_FACTOR_2 PERSON_SEX  \n",
              "0                   NaN                   NaN          U  \n",
              "1                   NaN                   NaN          F  \n",
              "2                   NaN                   NaN          M  \n",
              "3                   NaN                   NaN        NaN  \n",
              "4                   NaN                   NaN          F  \n",
              "\n",
              "[5 rows x 21 columns]"
            ]
          },
          "execution_count": 34,
          "metadata": {},
          "output_type": "execute_result"
        }
      ],
      "source": [
        "person_df.head()"
      ]
    },
    {
      "cell_type": "code",
      "execution_count": null,
      "id": "61bb2613-d6dd-4253-9900-e751835ce328",
      "metadata": {
        "id": "61bb2613-d6dd-4253-9900-e751835ce328",
        "outputId": "2fdb3848-8ef9-453b-d451-42d037887472"
      },
      "outputs": [
        {
          "data": {
            "text/plain": [
              "(5519439, 21)"
            ]
          },
          "execution_count": 35,
          "metadata": {},
          "output_type": "execute_result"
        }
      ],
      "source": [
        "person_df.shape"
      ]
    },
    {
      "cell_type": "code",
      "execution_count": null,
      "id": "46a9ddf0-ed80-4fb1-a920-35d3795e55de",
      "metadata": {
        "id": "46a9ddf0-ed80-4fb1-a920-35d3795e55de",
        "outputId": "c0165df9-c5b7-4193-d302-674b39eb4a19"
      },
      "outputs": [
        {
          "data": {
            "text/plain": [
              "Index(['UNIQUE_ID', 'COLLISION_ID', 'CRASH_DATE', 'CRASH_TIME', 'PERSON_ID',\n",
              "       'PERSON_TYPE', 'PERSON_INJURY', 'VEHICLE_ID', 'PERSON_AGE', 'EJECTION',\n",
              "       'EMOTIONAL_STATUS', 'BODILY_INJURY', 'POSITION_IN_VEHICLE',\n",
              "       'SAFETY_EQUIPMENT', 'PED_LOCATION', 'PED_ACTION', 'COMPLAINT',\n",
              "       'PED_ROLE', 'CONTRIBUTING_FACTOR_1', 'CONTRIBUTING_FACTOR_2',\n",
              "       'PERSON_SEX'],\n",
              "      dtype='object')"
            ]
          },
          "execution_count": 36,
          "metadata": {},
          "output_type": "execute_result"
        }
      ],
      "source": [
        "person_df.columns"
      ]
    },
    {
      "cell_type": "code",
      "execution_count": null,
      "id": "82a97396-c3ed-40f0-904b-2080f732914b",
      "metadata": {
        "id": "82a97396-c3ed-40f0-904b-2080f732914b",
        "outputId": "b4bbd174-6810-4cb7-c4dc-3a5f92310977"
      },
      "outputs": [
        {
          "name": "stdout",
          "output_type": "stream",
          "text": [
            "<class 'pandas.core.frame.DataFrame'>\n",
            "RangeIndex: 5519439 entries, 0 to 5519438\n",
            "Data columns (total 21 columns):\n",
            " #   Column                 Dtype  \n",
            "---  ------                 -----  \n",
            " 0   UNIQUE_ID              int64  \n",
            " 1   COLLISION_ID           int64  \n",
            " 2   CRASH_DATE             object \n",
            " 3   CRASH_TIME             object \n",
            " 4   PERSON_ID              object \n",
            " 5   PERSON_TYPE            object \n",
            " 6   PERSON_INJURY          object \n",
            " 7   VEHICLE_ID             float64\n",
            " 8   PERSON_AGE             float64\n",
            " 9   EJECTION               object \n",
            " 10  EMOTIONAL_STATUS       object \n",
            " 11  BODILY_INJURY          object \n",
            " 12  POSITION_IN_VEHICLE    object \n",
            " 13  SAFETY_EQUIPMENT       object \n",
            " 14  PED_LOCATION           object \n",
            " 15  PED_ACTION             object \n",
            " 16  COMPLAINT              object \n",
            " 17  PED_ROLE               object \n",
            " 18  CONTRIBUTING_FACTOR_1  object \n",
            " 19  CONTRIBUTING_FACTOR_2  object \n",
            " 20  PERSON_SEX             object \n",
            "dtypes: float64(2), int64(2), object(17)\n",
            "memory usage: 884.3+ MB\n"
          ]
        }
      ],
      "source": [
        "person_df.info()"
      ]
    },
    {
      "cell_type": "code",
      "execution_count": null,
      "id": "b2e9c432-9b41-484e-9734-4717328b9058",
      "metadata": {
        "id": "b2e9c432-9b41-484e-9734-4717328b9058",
        "outputId": "c97efe53-cd4b-4990-a2ae-4bc97ce16466"
      },
      "outputs": [
        {
          "data": {
            "text/html": [
              "<div>\n",
              "<style scoped>\n",
              "    .dataframe tbody tr th:only-of-type {\n",
              "        vertical-align: middle;\n",
              "    }\n",
              "\n",
              "    .dataframe tbody tr th {\n",
              "        vertical-align: top;\n",
              "    }\n",
              "\n",
              "    .dataframe thead th {\n",
              "        text-align: right;\n",
              "    }\n",
              "</style>\n",
              "<table border=\"1\" class=\"dataframe\">\n",
              "  <thead>\n",
              "    <tr style=\"text-align: right;\">\n",
              "      <th></th>\n",
              "      <th>UNIQUE_ID</th>\n",
              "      <th>COLLISION_ID</th>\n",
              "      <th>VEHICLE_ID</th>\n",
              "      <th>PERSON_AGE</th>\n",
              "    </tr>\n",
              "  </thead>\n",
              "  <tbody>\n",
              "    <tr>\n",
              "      <th>count</th>\n",
              "      <td>5.519439e+06</td>\n",
              "      <td>5.519439e+06</td>\n",
              "      <td>5.293926e+06</td>\n",
              "      <td>4.918256e+06</td>\n",
              "    </tr>\n",
              "    <tr>\n",
              "      <th>mean</th>\n",
              "      <td>9.156983e+06</td>\n",
              "      <td>3.972859e+06</td>\n",
              "      <td>1.858683e+07</td>\n",
              "      <td>3.734325e+01</td>\n",
              "    </tr>\n",
              "    <tr>\n",
              "      <th>std</th>\n",
              "      <td>2.669585e+06</td>\n",
              "      <td>6.554778e+05</td>\n",
              "      <td>1.581655e+06</td>\n",
              "      <td>1.131559e+02</td>\n",
              "    </tr>\n",
              "    <tr>\n",
              "      <th>min</th>\n",
              "      <td>1.092200e+04</td>\n",
              "      <td>3.700000e+01</td>\n",
              "      <td>1.234230e+05</td>\n",
              "      <td>-9.990000e+02</td>\n",
              "    </tr>\n",
              "    <tr>\n",
              "      <th>25%</th>\n",
              "      <td>7.022288e+06</td>\n",
              "      <td>3.687738e+06</td>\n",
              "      <td>1.756502e+07</td>\n",
              "      <td>2.400000e+01</td>\n",
              "    </tr>\n",
              "    <tr>\n",
              "      <th>50%</th>\n",
              "      <td>9.418876e+06</td>\n",
              "      <td>4.022833e+06</td>\n",
              "      <td>1.873284e+07</td>\n",
              "      <td>3.600000e+01</td>\n",
              "    </tr>\n",
              "    <tr>\n",
              "      <th>75%</th>\n",
              "      <td>1.151825e+07</td>\n",
              "      <td>4.374459e+06</td>\n",
              "      <td>1.980598e+07</td>\n",
              "      <td>5.000000e+01</td>\n",
              "    </tr>\n",
              "    <tr>\n",
              "      <th>max</th>\n",
              "      <td>1.320011e+07</td>\n",
              "      <td>4.769583e+06</td>\n",
              "      <td>2.077853e+07</td>\n",
              "      <td>9.999000e+03</td>\n",
              "    </tr>\n",
              "  </tbody>\n",
              "</table>\n",
              "</div>"
            ],
            "text/plain": [
              "          UNIQUE_ID  COLLISION_ID    VEHICLE_ID    PERSON_AGE\n",
              "count  5.519439e+06  5.519439e+06  5.293926e+06  4.918256e+06\n",
              "mean   9.156983e+06  3.972859e+06  1.858683e+07  3.734325e+01\n",
              "std    2.669585e+06  6.554778e+05  1.581655e+06  1.131559e+02\n",
              "min    1.092200e+04  3.700000e+01  1.234230e+05 -9.990000e+02\n",
              "25%    7.022288e+06  3.687738e+06  1.756502e+07  2.400000e+01\n",
              "50%    9.418876e+06  4.022833e+06  1.873284e+07  3.600000e+01\n",
              "75%    1.151825e+07  4.374459e+06  1.980598e+07  5.000000e+01\n",
              "max    1.320011e+07  4.769583e+06  2.077853e+07  9.999000e+03"
            ]
          },
          "execution_count": 38,
          "metadata": {},
          "output_type": "execute_result"
        }
      ],
      "source": [
        "person_df.describe()"
      ]
    },
    {
      "cell_type": "markdown",
      "id": "974f4a57-457b-4f5e-b2b1-32722872c25b",
      "metadata": {
        "id": "974f4a57-457b-4f5e-b2b1-32722872c25b"
      },
      "source": [
        "# Checking Null values"
      ]
    },
    {
      "cell_type": "code",
      "execution_count": null,
      "id": "32339c5c-a4b1-43d6-b332-533ff648b4b7",
      "metadata": {
        "id": "32339c5c-a4b1-43d6-b332-533ff648b4b7",
        "outputId": "76c06f58-bc5c-423b-dcb2-1ee457df27be"
      },
      "outputs": [
        {
          "data": {
            "text/plain": [
              "UNIQUE_ID                      0\n",
              "COLLISION_ID                   0\n",
              "CRASH_DATE                     0\n",
              "CRASH_TIME                     0\n",
              "PERSON_ID                     19\n",
              "PERSON_TYPE                    0\n",
              "PERSON_INJURY                  0\n",
              "VEHICLE_ID                225513\n",
              "PERSON_AGE                601183\n",
              "EJECTION                 2684796\n",
              "EMOTIONAL_STATUS         2598039\n",
              "BODILY_INJURY            2597996\n",
              "POSITION_IN_VEHICLE      2684400\n",
              "SAFETY_EQUIPMENT         2868270\n",
              "PED_LOCATION             5427677\n",
              "PED_ACTION               5427778\n",
              "COMPLAINT                2597989\n",
              "PED_ROLE                  194889\n",
              "CONTRIBUTING_FACTOR_1    5429030\n",
              "CONTRIBUTING_FACTOR_2    5429147\n",
              "PERSON_SEX                615773\n",
              "dtype: int64"
            ]
          },
          "execution_count": 40,
          "metadata": {},
          "output_type": "execute_result"
        }
      ],
      "source": [
        "#checking null values\n",
        "person_df.isnull().sum()"
      ]
    },
    {
      "cell_type": "markdown",
      "id": "e5d85eca-d1f2-4a13-b50a-89459c9bc581",
      "metadata": {
        "id": "e5d85eca-d1f2-4a13-b50a-89459c9bc581"
      },
      "source": [
        "finding duplicate values"
      ]
    },
    {
      "cell_type": "code",
      "execution_count": null,
      "id": "526ffeb1-a9d6-4174-8d27-091f46871e4f",
      "metadata": {
        "id": "526ffeb1-a9d6-4174-8d27-091f46871e4f",
        "outputId": "ff268d60-e0ee-4ec9-d456-4658101e124b"
      },
      "outputs": [
        {
          "name": "stdout",
          "output_type": "stream",
          "text": [
            "Number of duplicate rows: 0\n"
          ]
        }
      ],
      "source": [
        "# Find duplicate rows in the entire dataset\n",
        "duplicate_rows = person_df[person_df.duplicated()]\n",
        "\n",
        "# Display count of duplicate rows\n",
        "print(f\"Number of duplicate rows: {duplicate_rows.shape[0]}\")\n"
      ]
    },
    {
      "cell_type": "code",
      "execution_count": null,
      "id": "c53ab3b0-0590-426b-ba7b-ca9af2f69389",
      "metadata": {
        "id": "c53ab3b0-0590-426b-ba7b-ca9af2f69389",
        "outputId": "2e89563e-9485-468a-e505-c5ede06ec040"
      },
      "outputs": [
        {
          "name": "stdout",
          "output_type": "stream",
          "text": [
            "Number of duplicate UNIQUE_IDs: 0\n"
          ]
        }
      ],
      "source": [
        "# Find duplicate entries based on COLLISION_ID\n",
        "duplicate_collision_ids = person_df[person_df.duplicated(subset=['UNIQUE_ID'])]\n",
        "\n",
        "# Display count of duplicate COLLISION_IDs\n",
        "print(f\"Number of duplicate UNIQUE_IDs: {duplicate_collision_ids.shape[0]}\")\n"
      ]
    },
    {
      "cell_type": "markdown",
      "id": "8c223a13-09e7-45c7-8383-3b15aed838c3",
      "metadata": {
        "id": "8c223a13-09e7-45c7-8383-3b15aed838c3"
      },
      "source": [
        "it is clear that factors 1, 2, and ped_location and Ped_action are typically absent after adding up the empty rows for each. Keeping in mind that there are currently 98.37% of them are already missing."
      ]
    },
    {
      "cell_type": "code",
      "execution_count": null,
      "id": "7bfd76d1-b0c7-4a45-acab-ec06c79ff1aa",
      "metadata": {
        "id": "7bfd76d1-b0c7-4a45-acab-ec06c79ff1aa"
      },
      "outputs": [],
      "source": [
        "person_df = person_df.drop(columns=['CONTRIBUTING_FACTOR_1', 'CONTRIBUTING_FACTOR_2', 'PED_ACTION', 'PED_LOCATION'])"
      ]
    },
    {
      "cell_type": "markdown",
      "id": "70200fd9-dc23-4f5b-881f-0f021349832d",
      "metadata": {
        "id": "70200fd9-dc23-4f5b-881f-0f021349832d"
      },
      "source": [
        "As person_id has less number of null values we have removed them."
      ]
    },
    {
      "cell_type": "code",
      "execution_count": null,
      "id": "86fd827c-b4f0-4bf0-a9a0-111dc75d3625",
      "metadata": {
        "id": "86fd827c-b4f0-4bf0-a9a0-111dc75d3625"
      },
      "outputs": [],
      "source": [
        "person_df = person_df.dropna(subset=['PERSON_ID'])"
      ]
    },
    {
      "cell_type": "markdown",
      "id": "df5a74a0-2f65-4eae-b3eb-9e68f952e704",
      "metadata": {
        "id": "df5a74a0-2f65-4eae-b3eb-9e68f952e704"
      },
      "source": [
        "Filling person_sex with \"U\" and other columns with Unknown"
      ]
    },
    {
      "cell_type": "code",
      "execution_count": null,
      "id": "9539aa5b-0474-4183-a906-5b003f01a992",
      "metadata": {
        "id": "9539aa5b-0474-4183-a906-5b003f01a992"
      },
      "outputs": [],
      "source": [
        "person_df['PERSON_SEX'] = person_df['PERSON_SEX'].fillna('U')"
      ]
    },
    {
      "cell_type": "code",
      "execution_count": null,
      "id": "b4aeff7f-08c6-4ceb-b61f-fdc970bc42c0",
      "metadata": {
        "id": "b4aeff7f-08c6-4ceb-b61f-fdc970bc42c0"
      },
      "outputs": [],
      "source": [
        "columns_to_fill = ['EJECTION', 'EMOTIONAL_STATUS', 'BODILY_INJURY',\n",
        "                   'POSITION_IN_VEHICLE', 'SAFETY_EQUIPMENT',\n",
        "                   'COMPLAINT', 'PED_ROLE']\n",
        "\n",
        "# Fill missing values with 'Unknown' in the specified columns\n",
        "person_df[columns_to_fill] = person_df[columns_to_fill].fillna('Unknown')"
      ]
    },
    {
      "cell_type": "code",
      "execution_count": null,
      "id": "a2da9a77-86ff-4597-8039-82a80ebb65df",
      "metadata": {
        "id": "a2da9a77-86ff-4597-8039-82a80ebb65df"
      },
      "outputs": [],
      "source": [
        "col_to_fill = ['VEHICLE_ID', 'PERSON_AGE']\n",
        "person_df[col_to_fill] = person_df[col_to_fill].fillna(0)\n",
        "\n",
        "# Convert columns to 'int64'\n",
        "person_df[col_to_fill] = person_df[col_to_fill].astype('int64')"
      ]
    },
    {
      "cell_type": "markdown",
      "id": "45e9e63c-2f30-45f8-8f51-09d5b74afe9f",
      "metadata": {
        "id": "45e9e63c-2f30-45f8-8f51-09d5b74afe9f"
      },
      "source": [
        "Merging Crash date and crash time in one column"
      ]
    },
    {
      "cell_type": "code",
      "execution_count": null,
      "id": "ce62b574-358e-416e-ad31-d22696188ea1",
      "metadata": {
        "id": "ce62b574-358e-416e-ad31-d22696188ea1"
      },
      "outputs": [],
      "source": [
        "person_df['CRASH_DATE'] = pd.to_datetime(person_df['CRASH_DATE'])\n",
        "person_df['CRASH_DATE'] = person_df['CRASH_DATE'].dt.date\n",
        "person_df['CRASH_DATE'] = person_df['CRASH_DATE'].astype(str)\n",
        "\n",
        "person_df['DateTime'] = pd.to_datetime(person_df['CRASH_DATE'] + ' ' +person_df['CRASH_TIME'])\n",
        "\n",
        "\n",
        "person_df['CRASH_DATE'] = pd.to_datetime(person_df['DateTime'])\n"
      ]
    },
    {
      "cell_type": "code",
      "execution_count": null,
      "id": "3765088e-0f5e-4ab1-9396-19917cc90ed8",
      "metadata": {
        "id": "3765088e-0f5e-4ab1-9396-19917cc90ed8"
      },
      "outputs": [],
      "source": [
        "person_df = person_df.drop(columns=['CRASH_TIME','DateTime'])"
      ]
    },
    {
      "cell_type": "code",
      "execution_count": null,
      "id": "7c72ef3b-6512-4674-93c9-51ae426431a2",
      "metadata": {
        "id": "7c72ef3b-6512-4674-93c9-51ae426431a2",
        "outputId": "84e9975c-39fb-4b97-e799-e5b708e39f9f"
      },
      "outputs": [
        {
          "data": {
            "text/plain": [
              "UNIQUE_ID              0\n",
              "COLLISION_ID           0\n",
              "CRASH_DATE             0\n",
              "PERSON_ID              0\n",
              "PERSON_TYPE            0\n",
              "PERSON_INJURY          0\n",
              "VEHICLE_ID             0\n",
              "PERSON_AGE             0\n",
              "EJECTION               0\n",
              "EMOTIONAL_STATUS       0\n",
              "BODILY_INJURY          0\n",
              "POSITION_IN_VEHICLE    0\n",
              "SAFETY_EQUIPMENT       0\n",
              "COMPLAINT              0\n",
              "PED_ROLE               0\n",
              "PERSON_SEX             0\n",
              "dtype: int64"
            ]
          },
          "execution_count": 55,
          "metadata": {},
          "output_type": "execute_result"
        }
      ],
      "source": [
        "#checking null values\n",
        "person_df.isnull().sum()"
      ]
    },
    {
      "cell_type": "markdown",
      "id": "6b5cde89-37f1-432e-a58e-bc4d358131bd",
      "metadata": {
        "id": "6b5cde89-37f1-432e-a58e-bc4d358131bd"
      },
      "source": [
        "# Motor Vechicle Collision - Vehichle"
      ]
    },
    {
      "cell_type": "code",
      "execution_count": null,
      "id": "d3aee777-a6f0-4785-b40f-e45a857b67c2",
      "metadata": {
        "id": "d3aee777-a6f0-4785-b40f-e45a857b67c2",
        "outputId": "871d8b32-36df-4e74-b646-8a7ba0bbb5fb"
      },
      "outputs": [
        {
          "data": {
            "text/html": [
              "<div>\n",
              "<style scoped>\n",
              "    .dataframe tbody tr th:only-of-type {\n",
              "        vertical-align: middle;\n",
              "    }\n",
              "\n",
              "    .dataframe tbody tr th {\n",
              "        vertical-align: top;\n",
              "    }\n",
              "\n",
              "    .dataframe thead th {\n",
              "        text-align: right;\n",
              "    }\n",
              "</style>\n",
              "<table border=\"1\" class=\"dataframe\">\n",
              "  <thead>\n",
              "    <tr style=\"text-align: right;\">\n",
              "      <th></th>\n",
              "      <th>UNIQUE_ID</th>\n",
              "      <th>COLLISION_ID</th>\n",
              "      <th>CRASH_DATE</th>\n",
              "      <th>CRASH_TIME</th>\n",
              "      <th>VEHICLE_ID</th>\n",
              "      <th>STATE_REGISTRATION</th>\n",
              "      <th>VEHICLE_TYPE</th>\n",
              "      <th>VEHICLE_MAKE</th>\n",
              "      <th>VEHICLE_MODEL</th>\n",
              "      <th>VEHICLE_YEAR</th>\n",
              "      <th>...</th>\n",
              "      <th>PRE_CRASH</th>\n",
              "      <th>POINT_OF_IMPACT</th>\n",
              "      <th>VEHICLE_DAMAGE</th>\n",
              "      <th>VEHICLE_DAMAGE_1</th>\n",
              "      <th>VEHICLE_DAMAGE_2</th>\n",
              "      <th>VEHICLE_DAMAGE_3</th>\n",
              "      <th>PUBLIC_PROPERTY_DAMAGE</th>\n",
              "      <th>PUBLIC_PROPERTY_DAMAGE_TYPE</th>\n",
              "      <th>CONTRIBUTING_FACTOR_1</th>\n",
              "      <th>CONTRIBUTING_FACTOR_2</th>\n",
              "    </tr>\n",
              "  </thead>\n",
              "  <tbody>\n",
              "    <tr>\n",
              "      <th>0</th>\n",
              "      <td>10385780</td>\n",
              "      <td>100201</td>\n",
              "      <td>09/07/2012</td>\n",
              "      <td>9:03</td>\n",
              "      <td>1</td>\n",
              "      <td>NY</td>\n",
              "      <td>PASSENGER VEHICLE</td>\n",
              "      <td>NaN</td>\n",
              "      <td>NaN</td>\n",
              "      <td>NaN</td>\n",
              "      <td>...</td>\n",
              "      <td>NaN</td>\n",
              "      <td>NaN</td>\n",
              "      <td>NaN</td>\n",
              "      <td>NaN</td>\n",
              "      <td>NaN</td>\n",
              "      <td>NaN</td>\n",
              "      <td>NaN</td>\n",
              "      <td>NaN</td>\n",
              "      <td>Unspecified</td>\n",
              "      <td>NaN</td>\n",
              "    </tr>\n",
              "    <tr>\n",
              "      <th>1</th>\n",
              "      <td>19140702</td>\n",
              "      <td>4213082</td>\n",
              "      <td>09/23/2019</td>\n",
              "      <td>8:15</td>\n",
              "      <td>0553ab4d-9500-4cba-8d98-f4d7f89d5856</td>\n",
              "      <td>NY</td>\n",
              "      <td>Station Wagon/Sport Utility Vehicle</td>\n",
              "      <td>TOYT -CAR/SUV</td>\n",
              "      <td>NaN</td>\n",
              "      <td>2002.0</td>\n",
              "      <td>...</td>\n",
              "      <td>Going Straight Ahead</td>\n",
              "      <td>Left Front Bumper</td>\n",
              "      <td>Left Front Quarter Panel</td>\n",
              "      <td>NaN</td>\n",
              "      <td>NaN</td>\n",
              "      <td>NaN</td>\n",
              "      <td>N</td>\n",
              "      <td>NaN</td>\n",
              "      <td>Driver Inattention/Distraction</td>\n",
              "      <td>Unspecified</td>\n",
              "    </tr>\n",
              "    <tr>\n",
              "      <th>2</th>\n",
              "      <td>14887647</td>\n",
              "      <td>3307608</td>\n",
              "      <td>10/02/2015</td>\n",
              "      <td>17:18</td>\n",
              "      <td>2</td>\n",
              "      <td>NY</td>\n",
              "      <td>TAXI</td>\n",
              "      <td>NaN</td>\n",
              "      <td>NaN</td>\n",
              "      <td>NaN</td>\n",
              "      <td>...</td>\n",
              "      <td>Going Straight Ahead</td>\n",
              "      <td>NaN</td>\n",
              "      <td>NaN</td>\n",
              "      <td>NaN</td>\n",
              "      <td>NaN</td>\n",
              "      <td>NaN</td>\n",
              "      <td>NaN</td>\n",
              "      <td>NaN</td>\n",
              "      <td>Driver Inattention/Distraction</td>\n",
              "      <td>NaN</td>\n",
              "    </tr>\n",
              "    <tr>\n",
              "      <th>3</th>\n",
              "      <td>14889754</td>\n",
              "      <td>3308693</td>\n",
              "      <td>10/04/2015</td>\n",
              "      <td>20:34</td>\n",
              "      <td>1</td>\n",
              "      <td>NY</td>\n",
              "      <td>PASSENGER VEHICLE</td>\n",
              "      <td>NaN</td>\n",
              "      <td>NaN</td>\n",
              "      <td>NaN</td>\n",
              "      <td>...</td>\n",
              "      <td>Parked</td>\n",
              "      <td>NaN</td>\n",
              "      <td>NaN</td>\n",
              "      <td>NaN</td>\n",
              "      <td>NaN</td>\n",
              "      <td>NaN</td>\n",
              "      <td>NaN</td>\n",
              "      <td>NaN</td>\n",
              "      <td>Unspecified</td>\n",
              "      <td>NaN</td>\n",
              "    </tr>\n",
              "    <tr>\n",
              "      <th>4</th>\n",
              "      <td>14400270</td>\n",
              "      <td>297666</td>\n",
              "      <td>04/25/2013</td>\n",
              "      <td>21:15</td>\n",
              "      <td>1</td>\n",
              "      <td>NY</td>\n",
              "      <td>PASSENGER VEHICLE</td>\n",
              "      <td>NaN</td>\n",
              "      <td>NaN</td>\n",
              "      <td>NaN</td>\n",
              "      <td>...</td>\n",
              "      <td>NaN</td>\n",
              "      <td>NaN</td>\n",
              "      <td>NaN</td>\n",
              "      <td>NaN</td>\n",
              "      <td>NaN</td>\n",
              "      <td>NaN</td>\n",
              "      <td>NaN</td>\n",
              "      <td>NaN</td>\n",
              "      <td>Other Vehicular</td>\n",
              "      <td>NaN</td>\n",
              "    </tr>\n",
              "  </tbody>\n",
              "</table>\n",
              "<p>5 rows × 25 columns</p>\n",
              "</div>"
            ],
            "text/plain": [
              "   UNIQUE_ID  COLLISION_ID  CRASH_DATE CRASH_TIME  \\\n",
              "0   10385780        100201  09/07/2012       9:03   \n",
              "1   19140702       4213082  09/23/2019       8:15   \n",
              "2   14887647       3307608  10/02/2015      17:18   \n",
              "3   14889754       3308693  10/04/2015      20:34   \n",
              "4   14400270        297666  04/25/2013      21:15   \n",
              "\n",
              "                             VEHICLE_ID STATE_REGISTRATION  \\\n",
              "0                                     1                 NY   \n",
              "1  0553ab4d-9500-4cba-8d98-f4d7f89d5856                 NY   \n",
              "2                                     2                 NY   \n",
              "3                                     1                 NY   \n",
              "4                                     1                 NY   \n",
              "\n",
              "                          VEHICLE_TYPE   VEHICLE_MAKE VEHICLE_MODEL  \\\n",
              "0                    PASSENGER VEHICLE            NaN           NaN   \n",
              "1  Station Wagon/Sport Utility Vehicle  TOYT -CAR/SUV           NaN   \n",
              "2                                 TAXI            NaN           NaN   \n",
              "3                    PASSENGER VEHICLE            NaN           NaN   \n",
              "4                    PASSENGER VEHICLE            NaN           NaN   \n",
              "\n",
              "   VEHICLE_YEAR  ...             PRE_CRASH    POINT_OF_IMPACT  \\\n",
              "0           NaN  ...                   NaN                NaN   \n",
              "1        2002.0  ...  Going Straight Ahead  Left Front Bumper   \n",
              "2           NaN  ...  Going Straight Ahead                NaN   \n",
              "3           NaN  ...                Parked                NaN   \n",
              "4           NaN  ...                   NaN                NaN   \n",
              "\n",
              "             VEHICLE_DAMAGE VEHICLE_DAMAGE_1 VEHICLE_DAMAGE_2  \\\n",
              "0                       NaN              NaN              NaN   \n",
              "1  Left Front Quarter Panel              NaN              NaN   \n",
              "2                       NaN              NaN              NaN   \n",
              "3                       NaN              NaN              NaN   \n",
              "4                       NaN              NaN              NaN   \n",
              "\n",
              "  VEHICLE_DAMAGE_3 PUBLIC_PROPERTY_DAMAGE PUBLIC_PROPERTY_DAMAGE_TYPE  \\\n",
              "0              NaN                    NaN                         NaN   \n",
              "1              NaN                      N                         NaN   \n",
              "2              NaN                    NaN                         NaN   \n",
              "3              NaN                    NaN                         NaN   \n",
              "4              NaN                    NaN                         NaN   \n",
              "\n",
              "            CONTRIBUTING_FACTOR_1 CONTRIBUTING_FACTOR_2  \n",
              "0                     Unspecified                   NaN  \n",
              "1  Driver Inattention/Distraction           Unspecified  \n",
              "2  Driver Inattention/Distraction                   NaN  \n",
              "3                     Unspecified                   NaN  \n",
              "4                 Other Vehicular                   NaN  \n",
              "\n",
              "[5 rows x 25 columns]"
            ]
          },
          "execution_count": 57,
          "metadata": {},
          "output_type": "execute_result"
        }
      ],
      "source": [
        "vehicles_df.head()"
      ]
    },
    {
      "cell_type": "code",
      "execution_count": null,
      "id": "1333eef1-b8a7-40c3-a2df-87374d79fdd5",
      "metadata": {
        "id": "1333eef1-b8a7-40c3-a2df-87374d79fdd5",
        "outputId": "1025514d-3b24-41e5-9e2f-68dca3562558"
      },
      "outputs": [
        {
          "data": {
            "text/plain": [
              "(4280967, 25)"
            ]
          },
          "execution_count": 58,
          "metadata": {},
          "output_type": "execute_result"
        }
      ],
      "source": [
        "vehicles_df.shape"
      ]
    },
    {
      "cell_type": "code",
      "execution_count": null,
      "id": "1e40ae9c-8ece-4c24-bfb9-dcd41cb5e47b",
      "metadata": {
        "id": "1e40ae9c-8ece-4c24-bfb9-dcd41cb5e47b",
        "outputId": "920ed403-25b9-41b5-d87d-2ad837fb05a0"
      },
      "outputs": [
        {
          "name": "stdout",
          "output_type": "stream",
          "text": [
            "<class 'pandas.core.frame.DataFrame'>\n",
            "RangeIndex: 4280967 entries, 0 to 4280966\n",
            "Data columns (total 25 columns):\n",
            " #   Column                       Dtype  \n",
            "---  ------                       -----  \n",
            " 0   UNIQUE_ID                    int64  \n",
            " 1   COLLISION_ID                 int64  \n",
            " 2   CRASH_DATE                   object \n",
            " 3   CRASH_TIME                   object \n",
            " 4   VEHICLE_ID                   object \n",
            " 5   STATE_REGISTRATION           object \n",
            " 6   VEHICLE_TYPE                 object \n",
            " 7   VEHICLE_MAKE                 object \n",
            " 8   VEHICLE_MODEL                object \n",
            " 9   VEHICLE_YEAR                 float64\n",
            " 10  TRAVEL_DIRECTION             object \n",
            " 11  VEHICLE_OCCUPANTS            float64\n",
            " 12  DRIVER_SEX                   object \n",
            " 13  DRIVER_LICENSE_STATUS        object \n",
            " 14  DRIVER_LICENSE_JURISDICTION  object \n",
            " 15  PRE_CRASH                    object \n",
            " 16  POINT_OF_IMPACT              object \n",
            " 17  VEHICLE_DAMAGE               object \n",
            " 18  VEHICLE_DAMAGE_1             object \n",
            " 19  VEHICLE_DAMAGE_2             object \n",
            " 20  VEHICLE_DAMAGE_3             object \n",
            " 21  PUBLIC_PROPERTY_DAMAGE       object \n",
            " 22  PUBLIC_PROPERTY_DAMAGE_TYPE  object \n",
            " 23  CONTRIBUTING_FACTOR_1        object \n",
            " 24  CONTRIBUTING_FACTOR_2        object \n",
            "dtypes: float64(2), int64(2), object(21)\n",
            "memory usage: 816.5+ MB\n"
          ]
        }
      ],
      "source": [
        "vehicles_df.info()"
      ]
    },
    {
      "cell_type": "code",
      "execution_count": null,
      "id": "40413133-4e1b-4a6d-a36f-f5b671e02b8d",
      "metadata": {
        "id": "40413133-4e1b-4a6d-a36f-f5b671e02b8d",
        "outputId": "c0dfc0ff-74fa-4fae-beb5-eac1edee91bc"
      },
      "outputs": [
        {
          "data": {
            "text/html": [
              "<div>\n",
              "<style scoped>\n",
              "    .dataframe tbody tr th:only-of-type {\n",
              "        vertical-align: middle;\n",
              "    }\n",
              "\n",
              "    .dataframe tbody tr th {\n",
              "        vertical-align: top;\n",
              "    }\n",
              "\n",
              "    .dataframe thead th {\n",
              "        text-align: right;\n",
              "    }\n",
              "</style>\n",
              "<table border=\"1\" class=\"dataframe\">\n",
              "  <thead>\n",
              "    <tr style=\"text-align: right;\">\n",
              "      <th></th>\n",
              "      <th>UNIQUE_ID</th>\n",
              "      <th>COLLISION_ID</th>\n",
              "      <th>VEHICLE_YEAR</th>\n",
              "      <th>VEHICLE_OCCUPANTS</th>\n",
              "    </tr>\n",
              "  </thead>\n",
              "  <tbody>\n",
              "    <tr>\n",
              "      <th>count</th>\n",
              "      <td>4.280967e+06</td>\n",
              "      <td>4.280967e+06</td>\n",
              "      <td>2.358293e+06</td>\n",
              "      <td>2.486191e+06</td>\n",
              "    </tr>\n",
              "    <tr>\n",
              "      <th>mean</th>\n",
              "      <td>1.665047e+07</td>\n",
              "      <td>3.216123e+06</td>\n",
              "      <td>2.015247e+03</td>\n",
              "      <td>1.101472e+03</td>\n",
              "    </tr>\n",
              "    <tr>\n",
              "      <th>std</th>\n",
              "      <td>3.368861e+06</td>\n",
              "      <td>1.498422e+06</td>\n",
              "      <td>1.473923e+02</td>\n",
              "      <td>9.431148e+05</td>\n",
              "    </tr>\n",
              "    <tr>\n",
              "      <th>min</th>\n",
              "      <td>1.117110e+05</td>\n",
              "      <td>2.200000e+01</td>\n",
              "      <td>1.000000e+03</td>\n",
              "      <td>0.000000e+00</td>\n",
              "    </tr>\n",
              "    <tr>\n",
              "      <th>25%</th>\n",
              "      <td>1.459110e+07</td>\n",
              "      <td>3.175408e+06</td>\n",
              "      <td>2.008000e+03</td>\n",
              "      <td>1.000000e+00</td>\n",
              "    </tr>\n",
              "    <tr>\n",
              "      <th>50%</th>\n",
              "      <td>1.759921e+07</td>\n",
              "      <td>3.710884e+06</td>\n",
              "      <td>2.014000e+03</td>\n",
              "      <td>1.000000e+00</td>\n",
              "    </tr>\n",
              "    <tr>\n",
              "      <th>75%</th>\n",
              "      <td>1.953133e+07</td>\n",
              "      <td>4.242520e+06</td>\n",
              "      <td>2.017000e+03</td>\n",
              "      <td>1.000000e+00</td>\n",
              "    </tr>\n",
              "    <tr>\n",
              "      <th>max</th>\n",
              "      <td>2.077853e+07</td>\n",
              "      <td>4.769583e+06</td>\n",
              "      <td>2.006300e+04</td>\n",
              "      <td>1.000000e+09</td>\n",
              "    </tr>\n",
              "  </tbody>\n",
              "</table>\n",
              "</div>"
            ],
            "text/plain": [
              "          UNIQUE_ID  COLLISION_ID  VEHICLE_YEAR  VEHICLE_OCCUPANTS\n",
              "count  4.280967e+06  4.280967e+06  2.358293e+06       2.486191e+06\n",
              "mean   1.665047e+07  3.216123e+06  2.015247e+03       1.101472e+03\n",
              "std    3.368861e+06  1.498422e+06  1.473923e+02       9.431148e+05\n",
              "min    1.117110e+05  2.200000e+01  1.000000e+03       0.000000e+00\n",
              "25%    1.459110e+07  3.175408e+06  2.008000e+03       1.000000e+00\n",
              "50%    1.759921e+07  3.710884e+06  2.014000e+03       1.000000e+00\n",
              "75%    1.953133e+07  4.242520e+06  2.017000e+03       1.000000e+00\n",
              "max    2.077853e+07  4.769583e+06  2.006300e+04       1.000000e+09"
            ]
          },
          "execution_count": 60,
          "metadata": {},
          "output_type": "execute_result"
        }
      ],
      "source": [
        "vehicles_df.describe()"
      ]
    },
    {
      "cell_type": "markdown",
      "id": "d7886870-2a39-415f-babd-307078e571e4",
      "metadata": {
        "id": "d7886870-2a39-415f-babd-307078e571e4"
      },
      "source": [
        "# Checking Null values"
      ]
    },
    {
      "cell_type": "code",
      "execution_count": null,
      "id": "c8993dff-e1ef-4a0e-bf4f-b845cf1933e3",
      "metadata": {
        "id": "c8993dff-e1ef-4a0e-bf4f-b845cf1933e3",
        "outputId": "c263e7a2-f4c9-4b0d-900e-cd516a13f20e"
      },
      "outputs": [
        {
          "data": {
            "text/plain": [
              "UNIQUE_ID                            0\n",
              "COLLISION_ID                         0\n",
              "CRASH_DATE                           0\n",
              "CRASH_TIME                           0\n",
              "VEHICLE_ID                           0\n",
              "STATE_REGISTRATION              322943\n",
              "VEHICLE_TYPE                    248378\n",
              "VEHICLE_MAKE                   1901277\n",
              "VEHICLE_MODEL                  4229587\n",
              "VEHICLE_YEAR                   1922674\n",
              "TRAVEL_DIRECTION               1674353\n",
              "VEHICLE_OCCUPANTS              1794776\n",
              "DRIVER_SEX                     2254270\n",
              "DRIVER_LICENSE_STATUS          2348799\n",
              "DRIVER_LICENSE_JURISDICTION    2344712\n",
              "PRE_CRASH                       928681\n",
              "POINT_OF_IMPACT                1708198\n",
              "VEHICLE_DAMAGE                 1733971\n",
              "VEHICLE_DAMAGE_1               2636442\n",
              "VEHICLE_DAMAGE_2               3037666\n",
              "VEHICLE_DAMAGE_3               3324220\n",
              "PUBLIC_PROPERTY_DAMAGE         1528858\n",
              "PUBLIC_PROPERTY_DAMAGE_TYPE    4253461\n",
              "CONTRIBUTING_FACTOR_1           153916\n",
              "CONTRIBUTING_FACTOR_2          1694988\n",
              "dtype: int64"
            ]
          },
          "execution_count": 62,
          "metadata": {},
          "output_type": "execute_result"
        }
      ],
      "source": [
        "#checking null values\n",
        "vehicles_df.isnull().sum()"
      ]
    },
    {
      "cell_type": "code",
      "execution_count": null,
      "id": "6300baf3-6305-4601-8fc3-6a34dbd5c78d",
      "metadata": {
        "id": "6300baf3-6305-4601-8fc3-6a34dbd5c78d",
        "outputId": "b510b295-87d8-4df7-fbab-985b3de3a3d5"
      },
      "outputs": [
        {
          "name": "stdout",
          "output_type": "stream",
          "text": [
            "Number of duplicate rows: 0\n"
          ]
        }
      ],
      "source": [
        "# Find duplicate rows in the entire dataset\n",
        "duplicate_rows = vehicles_df[vehicles_df.duplicated()]\n",
        "\n",
        "# Display count of duplicate rows\n",
        "print(f\"Number of duplicate rows: {duplicate_rows.shape[0]}\")\n"
      ]
    },
    {
      "cell_type": "code",
      "execution_count": null,
      "id": "3d0f66ef-6836-4376-a229-8f4fe588b4d5",
      "metadata": {
        "id": "3d0f66ef-6836-4376-a229-8f4fe588b4d5",
        "outputId": "f6279788-3494-483c-cc24-aa3b14d77f3f"
      },
      "outputs": [
        {
          "name": "stdout",
          "output_type": "stream",
          "text": [
            "Number of duplicate UNIQUE_IDs: 0\n"
          ]
        }
      ],
      "source": [
        "# Find duplicate entries based on COLLISION_ID\n",
        "duplicate_collision_ids = vehicles_df[vehicles_df.duplicated(subset=['UNIQUE_ID'])]\n",
        "\n",
        "# Display count of duplicate COLLISION_IDs\n",
        "print(f\"Number of duplicate UNIQUE_IDs: {duplicate_collision_ids.shape[0]}\")\n"
      ]
    },
    {
      "cell_type": "markdown",
      "id": "ed861954-91cd-4b65-a407-7c9d31976435",
      "metadata": {
        "id": "ed861954-91cd-4b65-a407-7c9d31976435"
      },
      "source": [
        "it is clear that PUBLIC_PROPERTY_DAMAGE_TYPE and VEHICLE_MODEL are typically absent after adding up the empty rows for each. Keeping in mind that there are currently 99.36% of them are already missing."
      ]
    },
    {
      "cell_type": "code",
      "execution_count": null,
      "id": "b227fb95-382d-4e99-b63d-259b14682ba3",
      "metadata": {
        "id": "b227fb95-382d-4e99-b63d-259b14682ba3"
      },
      "outputs": [],
      "source": [
        "vehicles_df = vehicles_df.drop(columns=['PUBLIC_PROPERTY_DAMAGE_TYPE','VEHICLE_MODEL'])"
      ]
    },
    {
      "cell_type": "code",
      "execution_count": null,
      "id": "72624230-3843-42aa-97db-2e224fd18b0e",
      "metadata": {
        "id": "72624230-3843-42aa-97db-2e224fd18b0e"
      },
      "outputs": [],
      "source": [
        "# Convert 'CRASH_DATE' to datetime and extract the date part\n",
        "vehicles_df['CRASH_DATE'] = pd.to_datetime(vehicles_df['CRASH_DATE'], errors='coerce')\n",
        "vehicles_df['CRASH_DATE'] = vehicles_df['CRASH_DATE'].dt.date.astype(str)\n",
        "\n",
        "# Combine 'CRASH_DATE' and 'CRASH_TIME' and handle missing values\n",
        "vehicles_df['DateTime'] = pd.to_datetime(\n",
        "    vehicles_df['CRASH_DATE'] + ' ' + vehicles_df['CRASH_TIME'],\n",
        "    errors='coerce'\n",
        ")\n",
        "\n",
        "# Re-assign 'CRASH_DATE' to the combined DateTime column if needed\n",
        "vehicles_df['CRASH_DATE'] = vehicles_df['DateTime'].dt.date\n"
      ]
    },
    {
      "cell_type": "code",
      "execution_count": null,
      "id": "7b45911f-01a2-485c-8e83-85e33e92e629",
      "metadata": {
        "id": "7b45911f-01a2-485c-8e83-85e33e92e629"
      },
      "outputs": [],
      "source": [
        "vehicles_df = vehicles_df.drop(columns=['CRASH_TIME','DateTime'])"
      ]
    },
    {
      "cell_type": "code",
      "execution_count": null,
      "id": "2b988f62-50b5-4124-b415-576793d3d812",
      "metadata": {
        "id": "2b988f62-50b5-4124-b415-576793d3d812"
      },
      "outputs": [],
      "source": [
        "columns_to_fill = ['CONTRIBUTING_FACTOR_1','CONTRIBUTING_FACTOR_2','PUBLIC_PROPERTY_DAMAGE']\n",
        "vehicles_df[columns_to_fill] = vehicles_df[columns_to_fill].fillna('Unspecified')"
      ]
    },
    {
      "cell_type": "code",
      "execution_count": null,
      "id": "515df6c6-1e58-461b-bfe5-16275daf2109",
      "metadata": {
        "id": "515df6c6-1e58-461b-bfe5-16275daf2109"
      },
      "outputs": [],
      "source": [
        "vehicles_df['DRIVER_SEX'] = vehicles_df['DRIVER_SEX'].fillna('U')"
      ]
    },
    {
      "cell_type": "code",
      "execution_count": null,
      "id": "e970b4b2-8364-4852-b9e4-f730c76eb029",
      "metadata": {
        "id": "e970b4b2-8364-4852-b9e4-f730c76eb029"
      },
      "outputs": [],
      "source": [
        "# Convert float columns to int and fill NaN values with 0\n",
        "vehicles_df['VEHICLE_YEAR'] = vehicles_df['VEHICLE_YEAR'].fillna(0).astype(int)\n",
        "vehicles_df['VEHICLE_OCCUPANTS'] = vehicles_df['VEHICLE_OCCUPANTS'].fillna(0).astype(int)\n"
      ]
    },
    {
      "cell_type": "code",
      "execution_count": null,
      "id": "008804c1-04bc-46d3-b7e7-388e0570f24a",
      "metadata": {
        "id": "008804c1-04bc-46d3-b7e7-388e0570f24a"
      },
      "outputs": [],
      "source": [
        "# Select object columns and exclude specified columns\n",
        "object_columns = vehicles_df.select_dtypes(include='object').columns\n",
        "object_columns = [col for col in object_columns if col not in ['CONTRIBUTING_FACTOR_1', 'CONTRIBUTING_FACTOR_2', 'PUBLIC_PROPERTY_DAMAGE']]\n",
        "\n",
        "# Fill NaN values in remaining object columns with 'Unknown'\n",
        "vehicles_df[object_columns] = vehicles_df[object_columns].fillna('Unknown')"
      ]
    },
    {
      "cell_type": "code",
      "execution_count": null,
      "id": "7d6b07e2-a605-4be9-824d-82f552ff104a",
      "metadata": {
        "id": "7d6b07e2-a605-4be9-824d-82f552ff104a",
        "outputId": "5e24e28d-a861-465c-bafd-9a8f37929972"
      },
      "outputs": [
        {
          "data": {
            "text/plain": [
              "UNIQUE_ID                      0\n",
              "COLLISION_ID                   0\n",
              "CRASH_DATE                     0\n",
              "VEHICLE_ID                     0\n",
              "STATE_REGISTRATION             0\n",
              "VEHICLE_TYPE                   0\n",
              "VEHICLE_MAKE                   0\n",
              "VEHICLE_YEAR                   0\n",
              "TRAVEL_DIRECTION               0\n",
              "VEHICLE_OCCUPANTS              0\n",
              "DRIVER_SEX                     0\n",
              "DRIVER_LICENSE_STATUS          0\n",
              "DRIVER_LICENSE_JURISDICTION    0\n",
              "PRE_CRASH                      0\n",
              "POINT_OF_IMPACT                0\n",
              "VEHICLE_DAMAGE                 0\n",
              "VEHICLE_DAMAGE_1               0\n",
              "VEHICLE_DAMAGE_2               0\n",
              "VEHICLE_DAMAGE_3               0\n",
              "PUBLIC_PROPERTY_DAMAGE         0\n",
              "CONTRIBUTING_FACTOR_1          0\n",
              "CONTRIBUTING_FACTOR_2          0\n",
              "dtype: int64"
            ]
          },
          "execution_count": 73,
          "metadata": {},
          "output_type": "execute_result"
        }
      ],
      "source": [
        "#checking null values\n",
        "vehicles_df.isnull().sum()"
      ]
    },
    {
      "cell_type": "code",
      "execution_count": null,
      "id": "3d0ce8c2-6116-4b91-b7dc-dcad6699ff36",
      "metadata": {
        "id": "3d0ce8c2-6116-4b91-b7dc-dcad6699ff36",
        "outputId": "d43959a1-f45d-45e3-bcd0-1b7774456668"
      },
      "outputs": [
        {
          "data": {
            "image/png": "[encoded data removed]",
            "text/plain": [
              "<Figure size 1500x800 with 2 Axes>"
            ]
          },
          "metadata": {},
          "output_type": "display_data"
        }
      ],
      "source": [
        "import matplotlib.pyplot as plt\n",
        "import seaborn as sns\n",
        "\n",
        "numerical_columns = vehicles_df.select_dtypes(include=['int64', 'float64']).columns\n",
        "numerical_columns = [col for col in numerical_columns ]\n",
        "\n",
        "# Set up the plot\n",
        "plt.figure(figsize=(15, 8))\n",
        "\n",
        "# Plot a boxplot for each numerical column\n",
        "for i, col in enumerate(numerical_columns, 1):\n",
        "    plt.subplot(1, len(numerical_columns), i)\n",
        "    sns.boxplot(y=vehicles_df[col])\n",
        "    plt.title(col)\n",
        "    plt.tight_layout()\n",
        "\n",
        "plt.show()\n",
        "\n"
      ]
    },
    {
      "cell_type": "markdown",
      "id": "4fc24e10-0739-4801-ae40-3a513baabd4c",
      "metadata": {
        "id": "4fc24e10-0739-4801-ae40-3a513baabd4c"
      },
      "source": [
        "For inserting SQL into Python"
      ]
    },
    {
      "cell_type": "code",
      "execution_count": null,
      "id": "a3074b88-a318-4154-88e9-9ef90c52f9c5",
      "metadata": {
        "id": "a3074b88-a318-4154-88e9-9ef90c52f9c5"
      },
      "outputs": [],
      "source": [
        "import sqlite3\n",
        "\n",
        "# Connect to an in-memory SQLite database\n",
        "conn = sqlite3.connect(':memory:')\n",
        "\n",
        "# Load each DataFrame into the SQLite database as a separate table\n",
        "crashes_df.to_sql('crashes', conn, index=False, if_exists='replace')\n",
        "person_df.to_sql('person', conn, index=False, if_exists='replace')\n",
        "vehicles_df.to_sql('vehicles', conn, index=False, if_exists='replace')\n",
        "\n",
        "# SQL query to merge the tables on COLLISION_ID\n",
        "query = \"\"\"\n",
        "SELECT crashes.*, person.*, vehicles.*\n",
        "FROM crashes\n",
        "JOIN person ON crashes.COLLISION_ID = person.COLLISION_ID\n",
        "JOIN vehicles ON crashes.COLLISION_ID = vehicles.COLLISION_ID;\n",
        "\"\"\"\n",
        "\n",
        "# Execute the query and load the result into a DataFrame\n",
        "merged_df = pd.read_sql_query(query, conn)\n",
        "\n",
        "# Close the database connection\n",
        "conn.close()\n",
        "\n",
        "# Display the merged DataFrame\n",
        "print(merged_df.head())\n"
      ]
    }
  ],
  "metadata": {
    "kernelspec": {
      "display_name": "Python 3 (ipykernel)",
      "language": "python",
      "name": "python3"
    },
    "language_info": {
      "codemirror_mode": {
        "name": "ipython",
        "version": 3
      },
      "file_extension": ".py",
      "mimetype": "text/x-python",
      "name": "python",
      "nbconvert_exporter": "python",
      "pygments_lexer": "ipython3",
      "version": "3.12.4"
    },
    "colab": {
      "provenance": [],
      "include_colab_link": true
    }
  },
  "nbformat": 4,
  "nbformat_minor": 5
}